{
  "nbformat": 4,
  "nbformat_minor": 0,
  "metadata": {
    "kernelspec": {
      "name": "python3",
      "display_name": "Python 3"
    },
    "colab": {
      "name": "personal_assignment_gpu.ipynb",
      "provenance": [],
      "collapsed_sections": [
        "h5-0w0hj32GN"
      ],
      "toc_visible": true,
      "machine_shape": "hm",
      "include_colab_link": true
    },
    "accelerator": "GPU"
  },
  "cells": [
    {
      "cell_type": "markdown",
      "metadata": {
        "id": "view-in-github",
        "colab_type": "text"
      },
      "source": [
        "<a href=\"https://colab.research.google.com/github/crywolfe/fingerprinting/blob/master/personal_assignment_gpu.ipynb\" target=\"_parent\"><img src=\"https://colab.research.google.com/assets/colab-badge.svg\" alt=\"Open In Colab\"/></a>"
      ]
    },
    {
      "cell_type": "markdown",
      "metadata": {
        "collapsed": true,
        "pycharm": {
          "name": "#%% md\n"
        },
        "id": "upS8mWFvSfsC",
        "colab_type": "text"
      },
      "source": [
        "### CIS-700\n",
        "### Personal Assignments\n",
        "#### Gerry Wolfe"
      ]
    },
    {
      "cell_type": "markdown",
      "metadata": {
        "pycharm": {
          "name": "#%% md\n"
        },
        "id": "Bq4H7j2dSfsF",
        "colab_type": "text"
      },
      "source": [
        "I've selected the following kaggle dataset.\n",
        "\n",
        "https://www.kaggle.com/ruizgara/socofing\n",
        "This dataset contains 6000 fingerprints from 600 subjects. Each subject has a set of 10 fingerprints in BMP format.\n",
        "The file names in the dataset have the following schema. <subjectId>_<gender>_<leftOrRightHand>_<fingerType>.BMP\n",
        "\n",
        "My goal is to predict whether a given set of fingerprints are male or female."
      ]
    },
    {
      "cell_type": "code",
      "metadata": {
        "id": "yxu4GsnuTLUi",
        "colab_type": "code",
        "colab": {
          "resources": {
            "http://localhost:8080/nbextensions/google.colab/files.js": {
              "data": "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",
              "ok": true,
              "headers": [
                [
                  "content-type",
                  "application/javascript"
                ]
              ],
              "status": 200,
              "status_text": ""
            }
          },
          "base_uri": "https://localhost:8080/",
          "height": 88
        },
        "outputId": "c20a5ad5-4298-47b5-8e6d-d0787fdadecc"
      },
      "source": [
        "# from google.colab import files\n",
        "# files.upload()\n"
      ],
      "execution_count": null,
      "outputs": [
        {
          "output_type": "display_data",
          "data": {
            "text/html": [
              "\n",
              "     <input type=\"file\" id=\"files-7e740e79-a12e-411d-8efd-950a852e2987\" name=\"files[]\" multiple disabled />\n",
              "     <output id=\"result-7e740e79-a12e-411d-8efd-950a852e2987\">\n",
              "      Upload widget is only available when the cell has been executed in the\n",
              "      current browser session. Please rerun this cell to enable.\n",
              "      </output>\n",
              "      <script src=\"/nbextensions/google.colab/files.js\"></script> "
            ],
            "text/plain": [
              "<IPython.core.display.HTML object>"
            ]
          },
          "metadata": {
            "tags": []
          }
        },
        {
          "output_type": "stream",
          "text": [
            "Saving kaggle.json to kaggle.json\n"
          ],
          "name": "stdout"
        },
        {
          "output_type": "execute_result",
          "data": {
            "text/plain": [
              "{'kaggle.json': b'{\"username\":\"crywolfe\",\"key\":\"b38faf08d1436dc0ce5df66dc182c6ff\"}'}"
            ]
          },
          "metadata": {
            "tags": []
          },
          "execution_count": 2
        }
      ]
    },
    {
      "cell_type": "code",
      "metadata": {
        "id": "HbESNE8DBgfj",
        "colab_type": "code",
        "colab": {
          "base_uri": "https://localhost:8080/",
          "height": 122
        },
        "outputId": "4916b7f8-42c8-40cb-cfa7-d398e67fd13d"
      },
      "source": [
        "from google.colab import drive\n",
        "drive.mount('/content/drive')"
      ],
      "execution_count": null,
      "outputs": [
        {
          "output_type": "stream",
          "text": [
            "Go to this URL in a browser: https://accounts.google.com/o/oauth2/auth?client_id=947318989803-6bn6qk8qdgf4n4g3pfee6491hc0brc4i.apps.googleusercontent.com&redirect_uri=urn%3aietf%3awg%3aoauth%3a2.0%3aoob&response_type=code&scope=email%20https%3a%2f%2fwww.googleapis.com%2fauth%2fdocs.test%20https%3a%2f%2fwww.googleapis.com%2fauth%2fdrive%20https%3a%2f%2fwww.googleapis.com%2fauth%2fdrive.photos.readonly%20https%3a%2f%2fwww.googleapis.com%2fauth%2fpeopleapi.readonly\n",
            "\n",
            "Enter your authorization code:\n",
            "··········\n",
            "Mounted at /content/drive\n"
          ],
          "name": "stdout"
        }
      ]
    },
    {
      "cell_type": "code",
      "metadata": {
        "pycharm": {
          "name": "#%%\n"
        },
        "id": "IhqxNMKCSfsG",
        "colab_type": "code",
        "colab": {
          "base_uri": "https://localhost:8080/",
          "height": 88
        },
        "outputId": "e42bb0f7-a694-418e-e498-efab9aa41a46"
      },
      "source": [
        "!pip install pickle5\n",
        "# libraries\n",
        "import tensorflow as tf\n",
        "from tensorflow import keras\n",
        "import tensorflow_addons as tfa\n",
        "import seaborn as sn\n",
        "import matplotlib.pyplot as plt\n",
        "import IPython.display as display\n",
        "import pandas as pd\n",
        "import numpy as np\n",
        "import pathlib\n",
        "from PIL import Image\n",
        "from sklearn.model_selection import train_test_split\n",
        "import os # use this instead of pathlib?\n",
        "import cv2\n",
        "import pickle5 as pickle\n",
        "import datetime"
      ],
      "execution_count": null,
      "outputs": [
        {
          "output_type": "stream",
          "text": [
            "Requirement already satisfied: pickle5 in /usr/local/lib/python3.6/dist-packages (0.0.10)\n"
          ],
          "name": "stdout"
        },
        {
          "output_type": "stream",
          "text": [
            "/usr/local/lib/python3.6/dist-packages/statsmodels/tools/_testing.py:19: FutureWarning: pandas.util.testing is deprecated. Use the functions in the public API at pandas.testing instead.\n",
            "  import pandas.util.testing as tm\n"
          ],
          "name": "stderr"
        }
      ]
    },
    {
      "cell_type": "code",
      "metadata": {
        "id": "rCfTj1P_TPtl",
        "colab_type": "code",
        "colab": {}
      },
      "source": [
        "# !mkdir -p ~/.kaggle\n",
        "# !cp kaggle.json ~/.kaggle/\n",
        "# !chmod 600 ~/.kaggle/kaggle.json\n",
        "# !kaggle datasets download -d ruizgara/socofing\n",
        "# !unzip socofing.zip  -d /content/"
      ],
      "execution_count": null,
      "outputs": []
    },
    {
      "cell_type": "code",
      "metadata": {
        "id": "dnEff6-vUgJf",
        "colab_type": "code",
        "colab": {
          "base_uri": "https://localhost:8080/",
          "height": 34
        },
        "outputId": "ed904fc4-3aaf-4864-9930-4bcec8e31317"
      },
      "source": [
        "# !cd SOCOFing/\n",
        "# !pwd"
      ],
      "execution_count": null,
      "outputs": [
        {
          "output_type": "stream",
          "text": [
            "/content\n"
          ],
          "name": "stdout"
        }
      ]
    },
    {
      "cell_type": "markdown",
      "metadata": {
        "pycharm": {
          "name": "#%%\n"
        },
        "id": "-kKkC2JwSfsM",
        "colab_type": "text"
      },
      "source": [
        "#### load project"
      ]
    },
    {
      "cell_type": "code",
      "metadata": {
        "pycharm": {
          "name": "#%%\n"
        },
        "id": "SxHvVTevSfsN",
        "colab_type": "code",
        "colab": {
          "base_uri": "https://localhost:8080/",
          "height": 34
        },
        "outputId": "d3d84e72-abf3-4a9b-904e-3b7c0eb24fed"
      },
      "source": [
        "# # data_dir = tf.keras.utils.get_file(origin='//Users/imac2017/Downloads/CIS-700/Notebooks/signature-verification-dataset.zip', fname='signature-verification-dataset', extract=True)\n",
        "# data_dir = pathlib.Path('/content/SOCOFing/')\n",
        "# data_dir.glob('*/*')\n",
        "# image_count = len(list(data_dir.glob('*/*.BMP')))\n",
        "# image_count\n",
        "# # data_dir = tf.keras.preprocessing.image.ImageDataGenerator(rescale=1./255)"
      ],
      "execution_count": null,
      "outputs": [
        {
          "output_type": "execute_result",
          "data": {
            "text/plain": [
              "6000"
            ]
          },
          "metadata": {
            "tags": []
          },
          "execution_count": 3
        }
      ]
    },
    {
      "cell_type": "code",
      "metadata": {
        "id": "J395XdhZSfsQ",
        "colab_type": "code",
        "colab": {
          "base_uri": "https://localhost:8080/",
          "height": 34
        },
        "outputId": "fa10cf74-2c02-4c13-d06b-d1af3db1ddbd"
      },
      "source": [
        "# CLASS_NAMES = np.array([item.name for item in data_dir.glob('*')])\n",
        "# CLASS_NAMES"
      ],
      "execution_count": null,
      "outputs": [
        {
          "output_type": "execute_result",
          "data": {
            "text/plain": [
              "array(['Altered', 'Real'], dtype='<U7')"
            ]
          },
          "metadata": {
            "tags": []
          },
          "execution_count": 4
        }
      ]
    },
    {
      "cell_type": "code",
      "metadata": {
        "collapsed": true,
        "id": "eewYLn3aSfsU",
        "colab_type": "code",
        "colab": {
          "base_uri": "https://localhost:8080/",
          "height": 377
        },
        "outputId": "f08bbb8a-d498-4b31-aa1a-b4dd3893b737"
      },
      "source": [
        "# real = list(data_dir.glob('Real/*'))\n",
        "# for image_path in real[0:3]:\n",
        "#     display.display(Image.open(str(image_path)))\n",
        "#     print(image_path)"
      ],
      "execution_count": null,
      "outputs": [
        {
          "output_type": "display_data",
          "data": {
            "image/png": "[encoded data removed]",
            "text/plain": [
              "<PIL.BmpImagePlugin.BmpImageFile image mode=RGBA size=96x103 at 0x7F91E63797B8>"
            ]
          },
          "metadata": {
            "tags": []
          }
        },
        {
          "output_type": "stream",
          "text": [
            "/content/SOCOFing/Real/88__F_Right_middle_finger.BMP\n"
          ],
          "name": "stdout"
        },
        {
          "output_type": "display_data",
          "data": {
            "image/png": "[encoded data removed]",
            "text/plain": [
              "<PIL.BmpImagePlugin.BmpImageFile image mode=RGBA size=96x103 at 0x7F91929FB550>"
            ]
          },
          "metadata": {
            "tags": []
          }
        },
        {
          "output_type": "stream",
          "text": [
            "/content/SOCOFing/Real/238__M_Left_little_finger.BMP\n"
          ],
          "name": "stdout"
        },
        {
          "output_type": "display_data",
          "data": {
            "image/png": "[encoded data removed]",
            "text/plain": [
              "<PIL.BmpImagePlugin.BmpImageFile image mode=RGBA size=96x103 at 0x7F91929FB588>"
            ]
          },
          "metadata": {
            "tags": []
          }
        },
        {
          "output_type": "stream",
          "text": [
            "/content/SOCOFing/Real/16__M_Right_index_finger.BMP\n"
          ],
          "name": "stdout"
        }
      ]
    },
    {
      "cell_type": "code",
      "metadata": {
        "id": "kV5BuB7mA8FN",
        "colab_type": "code",
        "colab": {}
      },
      "source": [
        "# # pickle write real\n",
        "# import datetime\n",
        "\n",
        "# date_of_launch = str(datetime.date.today())\n",
        "# fileObject = open('/content/drive/My Drive/CIS-700/Final/pickled_real' + date_of_launch + '.pickle', 'wb')\n",
        "# pickle.dump(real, fileObject)\n",
        "# fileObject.close()"
      ],
      "execution_count": null,
      "outputs": []
    },
    {
      "cell_type": "code",
      "metadata": {
        "id": "Jv83KK7_CZ9o",
        "colab_type": "code",
        "colab": {}
      },
      "source": [
        "# # pickle read real\n",
        "# fileObject = open('/content/drive/My Drive/CIS-700/Final/pickled_real2020-06-06.pickle', 'rb')\n",
        "# real = pickle.load(fileObject)\n",
        "# fileObject.close()\n",
        "# real"
      ],
      "execution_count": null,
      "outputs": []
    },
    {
      "cell_type": "markdown",
      "metadata": {
        "id": "FdXkVyVtSfsf",
        "colab_type": "text"
      },
      "source": [
        "### Extract Labels From File Names\n",
        "The labels I want are located in the file name of each image.\n",
        "\n",
        "I'm choosing to use labels for the type of finger, namely, thumb, index finger, middle finger, ring finger, and pinky finger.\n",
        "\n",
        "Maybe for another project I will choose to train against gender."
      ]
    },
    {
      "cell_type": "code",
      "metadata": {
        "id": "Gzgcm2nWSfsg",
        "colab_type": "code",
        "colab": {}
      },
      "source": [
        "# def extract_label(image_path, train=True):\n",
        "#     filename, _ = os.path.splitext(os.path.basename(image_path))\n",
        "#     subject_id, remaining = filename.split('__')\n",
        "    \n",
        "#     if train:\n",
        "#         gender, hand, finger, _, _ = remaining.split('_')\n",
        "#     else:\n",
        "#         gender, hand, finger, _ = remaining.split('_')\n",
        "    \n",
        "#     gender = 0 if gender == 'M' else 1\n",
        "#     hand = 0 if hand == 'Left' else 1\n",
        "    \n",
        "#     if finger == 'thumb':\n",
        "#         finger = 0\n",
        "#     elif finger == 'index':\n",
        "#         finger = 1\n",
        "#     elif finger == 'middle':\n",
        "#         finger = 2\n",
        "#     elif finger == 'ring':\n",
        "#         finger = 3\n",
        "#     elif finger == 'little':\n",
        "#         finger = 4\n",
        "#     # print(np.array([subject_id, gender, hand, finger], dtype=np.uint16))      \n",
        "#     return np.array([subject_id, gender, hand, finger], dtype=np.uint16)"
      ],
      "execution_count": null,
      "outputs": []
    },
    {
      "cell_type": "markdown",
      "metadata": {
        "id": "mf3kCwhvSfso",
        "colab_type": "text"
      },
      "source": [
        "#### loading specific data\n"
      ]
    },
    {
      "cell_type": "code",
      "metadata": {
        "id": "ze_tFfe1Sfso",
        "colab_type": "code",
        "colab": {}
      },
      "source": [
        "# img_size = 96\n",
        "\n",
        "# def loading_data(path,train):\n",
        "#     print(\"loading data from: \", path)\n",
        "#     data = []\n",
        "#     for img in os.listdir(path):\n",
        "#         try:\n",
        "#             img_array = cv2.imread(os.path.join(path, img), cv2.IMREAD_GRAYSCALE)\n",
        "#             img_resize = cv2.resize(img_array, (img_size, img_size))\n",
        "#             label = extract_label(os.path.join(path, img),train)\n",
        "#             # data.append([label[0], img_resize ]) # appends label feature of finger\n",
        "#             data.append([label[1], img_resize ]) # appends label feature of gender\n",
        "#         except Exception as e:\n",
        "#             pass\n",
        "#     # data\n",
        "#     return data"
      ],
      "execution_count": null,
      "outputs": []
    },
    {
      "cell_type": "code",
      "metadata": {
        "id": "Z-orS9hzSfsr",
        "colab_type": "code",
        "colab": {
          "base_uri": "https://localhost:8080/",
          "height": 85
        },
        "outputId": "5cb9616e-0b96-44e4-8d2d-21546cf04b1b"
      },
      "source": [
        "# real_path = \"/content/SOCOFing/Real\"\n",
        "# easy_path = \"/content/SOCOFing/Altered/Altered-Easy\"\n",
        "# medium_path = \"/content/SOCOFing/Altered/Altered-Medium\"\n",
        "# hard_path = \"/content/SOCOFing/Altered/Altered-Hard\"\n",
        "\n",
        "# easy_data = loading_data(easy_path, train = True)\n",
        "# medium_data = loading_data(medium_path, train = True)\n",
        "# hard_data = loading_data(hard_path, train = True)\n",
        "# test = loading_data(real_path, train = False)\n",
        "# print(test[0])\n",
        "# data = np.concatenate([easy_data, medium_data, hard_data], axis=0)\n",
        "# print(data[0])\n",
        "# # del easy_data, medium_data, hard_data # to save some RAM"
      ],
      "execution_count": null,
      "outputs": [
        {
          "output_type": "stream",
          "text": [
            "loading data from:  /content/SOCOFing/Altered/Altered-Easy\n",
            "loading data from:  /content/SOCOFing/Altered/Altered-Medium\n",
            "loading data from:  /content/SOCOFing/Altered/Altered-Hard\n",
            "loading data from:  /content/SOCOFing/Real\n"
          ],
          "name": "stdout"
        }
      ]
    },
    {
      "cell_type": "code",
      "metadata": {
        "id": "HXC9dVPqD2v5",
        "colab_type": "code",
        "colab": {}
      },
      "source": [
        "# # pickle write test\n",
        "\n",
        "# date_of_launch = str(datetime.date.today())\n",
        "# fileObject = open('/content/drive/My Drive/CIS-700/Final/pickled_test' + date_of_launch + '.pickle', 'wb')\n",
        "# pickle.dump(test, fileObject)\n",
        "# fileObject.close()"
      ],
      "execution_count": null,
      "outputs": []
    },
    {
      "cell_type": "code",
      "metadata": {
        "id": "FuTQfernERjn",
        "colab_type": "code",
        "colab": {
          "base_uri": "https://localhost:8080/",
          "height": 136
        },
        "outputId": "1f6fd9c1-608c-4eb2-ba20-56e920978949"
      },
      "source": [
        "# pickle read test\n",
        "fileObject = open('/content/drive/My Drive/CIS-700/Final/pickled_test2020-06-06.pickle', 'rb')\n",
        "test = pickle.load(fileObject)\n",
        "fileObject.close()\n",
        "test[1] # if gender label then test[1] is a male 0. (I THINK. Double check)"
      ],
      "execution_count": null,
      "outputs": [
        {
          "output_type": "execute_result",
          "data": {
            "text/plain": [
              "[0, array([[160, 158, 158, ...,   0,   0,   0],\n",
              "        [160, 105, 121, ...,   0,   0,   0],\n",
              "        [160, 105, 255, ...,   0,   0,   0],\n",
              "        ...,\n",
              "        [  0,   0,   0, ...,   0,   0,   0],\n",
              "        [  0,   0,   0, ...,   0,   0,   0],\n",
              "        [  0,   0,   0, ...,   0,   0,   0]], dtype=uint8)]"
            ]
          },
          "metadata": {
            "tags": []
          },
          "execution_count": 3
        }
      ]
    },
    {
      "cell_type": "code",
      "metadata": {
        "id": "XbHxcyO3C25N",
        "colab_type": "code",
        "colab": {}
      },
      "source": [
        "# # pickle write data\n",
        "\n",
        "# date_of_launch = str(datetime.date.today())\n",
        "# fileObject = open('/content/drive/My Drive/CIS-700/Final/pickled_data' + date_of_launch + '.pickle', 'wb')\n",
        "# pickle.dump(data, fileObject)\n",
        "# fileObject.close()"
      ],
      "execution_count": null,
      "outputs": []
    },
    {
      "cell_type": "code",
      "metadata": {
        "id": "KlWklBwYC5oy",
        "colab_type": "code",
        "colab": {
          "base_uri": "https://localhost:8080/",
          "height": 153
        },
        "outputId": "1348f773-e5ed-4da9-9886-cc912bb11d6a"
      },
      "source": [
        "# pickle read data\n",
        "fileObject = open('/content/drive/My Drive/CIS-700/Final/pickled_data2020-06-06.pickle', 'rb')\n",
        "data = pickle.load(fileObject)\n",
        "fileObject.close()\n",
        "data[1] # if gender label then data[1] is a male 0."
      ],
      "execution_count": null,
      "outputs": [
        {
          "output_type": "execute_result",
          "data": {
            "text/plain": [
              "array([0,\n",
              "       array([[160, 158, 158, ...,   0,   0,   0],\n",
              "       [160, 105, 121, ...,   0,   0,   0],\n",
              "       [160, 105, 255, ...,   0,   0,   0],\n",
              "       ...,\n",
              "       [  0,   0,   0, ...,   0,   0,   0],\n",
              "       [  0,   0,   0, ...,   0,   0,   0],\n",
              "       [  0,   0,   0, ...,   0,   0,   0]], dtype=uint8)], dtype=object)"
            ]
          },
          "metadata": {
            "tags": []
          },
          "execution_count": 4
        }
      ]
    },
    {
      "cell_type": "markdown",
      "metadata": {
        "id": "d7nSlMucSfsy",
        "colab_type": "text"
      },
      "source": [
        "#### Preprocess Data"
      ]
    },
    {
      "cell_type": "markdown",
      "metadata": {
        "id": "iqQkoFqLM6DI",
        "colab_type": "text"
      },
      "source": [
        "#### Training Data"
      ]
    },
    {
      "cell_type": "code",
      "metadata": {
        "id": "gPgpwsKfSfsy",
        "colab_type": "code",
        "colab": {
          "base_uri": "https://localhost:8080/",
          "height": 136
        },
        "outputId": "19031357-1cb2-41f0-e157-f084d41d7189"
      },
      "source": [
        "# img_size = 96\n",
        "\n",
        "# # finger_labels = []\n",
        "# gender_labels = []\n",
        "# images = []\n",
        "\n",
        "# for label, feature in data:\n",
        "#     images.append(feature)\n",
        "#     # fingers_label.append(label)\n",
        "#     gender_labels.append(label)\n",
        "    \n",
        "# # del data # to save RAM\n",
        "\n",
        "# images = np.array(images).reshape(-1, img_size, img_size, 1)\n",
        "# images_2 = np.array(images).reshape(-1, img_size, img_size)\n",
        "# images_2_norm = images_2 / 255.0\n",
        "# images_norm = images / 255.0\n",
        "# # images_norm_keras = tf.keras.preprocessing.image.ImageDataGenerator(rescale=1./255)\n",
        "\n",
        "# # fingers_category = keras.utils.to_categorical(finger_labels, num_classes=5) # converts to one-hot encoding\n",
        "# gender_category = keras.utils.to_categorical(gender_labels, num_classes=2)\n",
        "# gender_category"
      ],
      "execution_count": null,
      "outputs": [
        {
          "output_type": "execute_result",
          "data": {
            "text/plain": [
              "array([[1., 0.],\n",
              "       [1., 0.],\n",
              "       [1., 0.],\n",
              "       ...,\n",
              "       [1., 0.],\n",
              "       [1., 0.],\n",
              "       [1., 0.]], dtype=float32)"
            ]
          },
          "metadata": {
            "tags": []
          },
          "execution_count": 8
        }
      ]
    },
    {
      "cell_type": "code",
      "metadata": {
        "id": "UvQuiCRi2Stg",
        "colab_type": "code",
        "colab": {}
      },
      "source": [
        "# # pickle write images_norm\n",
        "\n",
        "# date_of_launch = str(datetime.date.today())\n",
        "# fileObject = open('/content/drive/My Drive/CIS-700/Final/pickled_images_norm' + date_of_launch + '.pickle', 'wb')\n",
        "# pickle.dump(images_norm, fileObject)\n",
        "# fileObject.close()"
      ],
      "execution_count": null,
      "outputs": []
    },
    {
      "cell_type": "code",
      "metadata": {
        "id": "K9S06ez72TN6",
        "colab_type": "code",
        "colab": {
          "base_uri": "https://localhost:8080/",
          "height": 1000
        },
        "outputId": "20500acd-5d1e-468f-b465-9c0107185812"
      },
      "source": [
        "# pickle read images_norm\n",
        "fileObject = open('/content/drive/My Drive/CIS-700/Final/pickled_images_norm2020-06-07.pickle', 'rb')\n",
        "images_norm = pickle.load(fileObject)\n",
        "fileObject.close()\n",
        "images_norm"
      ],
      "execution_count": null,
      "outputs": [
        {
          "output_type": "execute_result",
          "data": {
            "text/plain": [
              "array([[[[0.62745098],\n",
              "         [0.61960784],\n",
              "         [0.61960784],\n",
              "         ...,\n",
              "         [0.        ],\n",
              "         [0.        ],\n",
              "         [0.        ]],\n",
              "\n",
              "        [[0.62745098],\n",
              "         [0.41176471],\n",
              "         [0.4745098 ],\n",
              "         ...,\n",
              "         [0.        ],\n",
              "         [0.        ],\n",
              "         [0.        ]],\n",
              "\n",
              "        [[0.62745098],\n",
              "         [0.41176471],\n",
              "         [1.        ],\n",
              "         ...,\n",
              "         [0.        ],\n",
              "         [0.        ],\n",
              "         [0.        ]],\n",
              "\n",
              "        ...,\n",
              "\n",
              "        [[0.        ],\n",
              "         [0.        ],\n",
              "         [0.        ],\n",
              "         ...,\n",
              "         [0.        ],\n",
              "         [0.        ],\n",
              "         [0.        ]],\n",
              "\n",
              "        [[0.        ],\n",
              "         [0.        ],\n",
              "         [0.        ],\n",
              "         ...,\n",
              "         [0.        ],\n",
              "         [0.        ],\n",
              "         [0.        ]],\n",
              "\n",
              "        [[0.        ],\n",
              "         [0.        ],\n",
              "         [0.        ],\n",
              "         ...,\n",
              "         [0.        ],\n",
              "         [0.        ],\n",
              "         [0.        ]]],\n",
              "\n",
              "\n",
              "       [[[0.62745098],\n",
              "         [0.61960784],\n",
              "         [0.61960784],\n",
              "         ...,\n",
              "         [0.        ],\n",
              "         [0.        ],\n",
              "         [0.        ]],\n",
              "\n",
              "        [[0.62745098],\n",
              "         [0.41176471],\n",
              "         [0.4745098 ],\n",
              "         ...,\n",
              "         [0.        ],\n",
              "         [0.        ],\n",
              "         [0.        ]],\n",
              "\n",
              "        [[0.62745098],\n",
              "         [0.41176471],\n",
              "         [1.        ],\n",
              "         ...,\n",
              "         [0.        ],\n",
              "         [0.        ],\n",
              "         [0.        ]],\n",
              "\n",
              "        ...,\n",
              "\n",
              "        [[0.        ],\n",
              "         [0.        ],\n",
              "         [0.        ],\n",
              "         ...,\n",
              "         [0.        ],\n",
              "         [0.        ],\n",
              "         [0.        ]],\n",
              "\n",
              "        [[0.        ],\n",
              "         [0.        ],\n",
              "         [0.        ],\n",
              "         ...,\n",
              "         [0.        ],\n",
              "         [0.        ],\n",
              "         [0.        ]],\n",
              "\n",
              "        [[0.        ],\n",
              "         [0.        ],\n",
              "         [0.        ],\n",
              "         ...,\n",
              "         [0.        ],\n",
              "         [0.        ],\n",
              "         [0.        ]]],\n",
              "\n",
              "\n",
              "       [[[0.62745098],\n",
              "         [0.61960784],\n",
              "         [0.61960784],\n",
              "         ...,\n",
              "         [0.        ],\n",
              "         [0.        ],\n",
              "         [0.        ]],\n",
              "\n",
              "        [[0.62745098],\n",
              "         [0.41176471],\n",
              "         [0.4745098 ],\n",
              "         ...,\n",
              "         [0.        ],\n",
              "         [0.        ],\n",
              "         [0.        ]],\n",
              "\n",
              "        [[0.62745098],\n",
              "         [0.41176471],\n",
              "         [1.        ],\n",
              "         ...,\n",
              "         [0.        ],\n",
              "         [0.        ],\n",
              "         [0.        ]],\n",
              "\n",
              "        ...,\n",
              "\n",
              "        [[0.        ],\n",
              "         [0.        ],\n",
              "         [0.        ],\n",
              "         ...,\n",
              "         [0.        ],\n",
              "         [0.        ],\n",
              "         [0.        ]],\n",
              "\n",
              "        [[0.        ],\n",
              "         [0.        ],\n",
              "         [0.        ],\n",
              "         ...,\n",
              "         [0.        ],\n",
              "         [0.        ],\n",
              "         [0.        ]],\n",
              "\n",
              "        [[0.        ],\n",
              "         [0.        ],\n",
              "         [0.        ],\n",
              "         ...,\n",
              "         [0.        ],\n",
              "         [0.        ],\n",
              "         [0.        ]]],\n",
              "\n",
              "\n",
              "       ...,\n",
              "\n",
              "\n",
              "       [[[0.62745098],\n",
              "         [0.61960784],\n",
              "         [0.61960784],\n",
              "         ...,\n",
              "         [0.        ],\n",
              "         [0.        ],\n",
              "         [0.        ]],\n",
              "\n",
              "        [[0.62745098],\n",
              "         [0.41176471],\n",
              "         [0.4745098 ],\n",
              "         ...,\n",
              "         [0.        ],\n",
              "         [0.        ],\n",
              "         [0.        ]],\n",
              "\n",
              "        [[0.62745098],\n",
              "         [0.41176471],\n",
              "         [1.        ],\n",
              "         ...,\n",
              "         [0.        ],\n",
              "         [0.        ],\n",
              "         [0.        ]],\n",
              "\n",
              "        ...,\n",
              "\n",
              "        [[0.        ],\n",
              "         [0.        ],\n",
              "         [0.        ],\n",
              "         ...,\n",
              "         [0.        ],\n",
              "         [0.        ],\n",
              "         [0.        ]],\n",
              "\n",
              "        [[0.        ],\n",
              "         [0.        ],\n",
              "         [0.        ],\n",
              "         ...,\n",
              "         [0.        ],\n",
              "         [0.        ],\n",
              "         [0.        ]],\n",
              "\n",
              "        [[0.        ],\n",
              "         [0.        ],\n",
              "         [0.        ],\n",
              "         ...,\n",
              "         [0.        ],\n",
              "         [0.        ],\n",
              "         [0.        ]]],\n",
              "\n",
              "\n",
              "       [[[0.62745098],\n",
              "         [0.61960784],\n",
              "         [0.61960784],\n",
              "         ...,\n",
              "         [0.        ],\n",
              "         [0.        ],\n",
              "         [0.        ]],\n",
              "\n",
              "        [[0.62745098],\n",
              "         [0.41176471],\n",
              "         [0.4745098 ],\n",
              "         ...,\n",
              "         [0.        ],\n",
              "         [0.        ],\n",
              "         [0.        ]],\n",
              "\n",
              "        [[0.62745098],\n",
              "         [0.41176471],\n",
              "         [1.        ],\n",
              "         ...,\n",
              "         [0.        ],\n",
              "         [0.        ],\n",
              "         [0.        ]],\n",
              "\n",
              "        ...,\n",
              "\n",
              "        [[0.        ],\n",
              "         [0.        ],\n",
              "         [0.        ],\n",
              "         ...,\n",
              "         [0.        ],\n",
              "         [0.        ],\n",
              "         [0.        ]],\n",
              "\n",
              "        [[0.        ],\n",
              "         [0.        ],\n",
              "         [0.        ],\n",
              "         ...,\n",
              "         [0.        ],\n",
              "         [0.        ],\n",
              "         [0.        ]],\n",
              "\n",
              "        [[0.        ],\n",
              "         [0.        ],\n",
              "         [0.        ],\n",
              "         ...,\n",
              "         [0.        ],\n",
              "         [0.        ],\n",
              "         [0.        ]]],\n",
              "\n",
              "\n",
              "       [[[0.62745098],\n",
              "         [0.61960784],\n",
              "         [0.61960784],\n",
              "         ...,\n",
              "         [0.        ],\n",
              "         [0.        ],\n",
              "         [0.        ]],\n",
              "\n",
              "        [[0.62745098],\n",
              "         [0.41176471],\n",
              "         [0.4745098 ],\n",
              "         ...,\n",
              "         [0.        ],\n",
              "         [0.        ],\n",
              "         [0.        ]],\n",
              "\n",
              "        [[0.62745098],\n",
              "         [0.41176471],\n",
              "         [1.        ],\n",
              "         ...,\n",
              "         [0.        ],\n",
              "         [0.        ],\n",
              "         [0.        ]],\n",
              "\n",
              "        ...,\n",
              "\n",
              "        [[0.        ],\n",
              "         [0.        ],\n",
              "         [0.        ],\n",
              "         ...,\n",
              "         [0.        ],\n",
              "         [0.        ],\n",
              "         [0.        ]],\n",
              "\n",
              "        [[0.        ],\n",
              "         [0.        ],\n",
              "         [0.        ],\n",
              "         ...,\n",
              "         [0.        ],\n",
              "         [0.        ],\n",
              "         [0.        ]],\n",
              "\n",
              "        [[0.        ],\n",
              "         [0.        ],\n",
              "         [0.        ],\n",
              "         ...,\n",
              "         [0.        ],\n",
              "         [0.        ],\n",
              "         [0.        ]]]])"
            ]
          },
          "metadata": {
            "tags": []
          },
          "execution_count": 5
        }
      ]
    },
    {
      "cell_type": "code",
      "metadata": {
        "id": "bPsZmCF8t1kx",
        "colab_type": "code",
        "colab": {}
      },
      "source": [
        "# # pickle write gender_category\n",
        "\n",
        "# date_of_launch = str(datetime.date.today())\n",
        "# fileObject = open('/content/drive/My Drive/CIS-700/Final/pickled_gender_category' + date_of_launch + '.pickle', 'wb')\n",
        "# pickle.dump(gender_category, fileObject)\n",
        "# fileObject.close()"
      ],
      "execution_count": null,
      "outputs": []
    },
    {
      "cell_type": "code",
      "metadata": {
        "id": "XuxigeHst83c",
        "colab_type": "code",
        "colab": {
          "base_uri": "https://localhost:8080/",
          "height": 136
        },
        "outputId": "6f1f4d8f-1833-4b2d-e9b3-c30bf4f244b8"
      },
      "source": [
        "# pickle read gender_category\n",
        "fileObject = open('/content/drive/My Drive/CIS-700/Final/pickled_gender_category2020-06-06.pickle', 'rb')\n",
        "gender_category = pickle.load(fileObject)\n",
        "fileObject.close()\n",
        "gender_category"
      ],
      "execution_count": null,
      "outputs": [
        {
          "output_type": "execute_result",
          "data": {
            "text/plain": [
              "array([[1., 0.],\n",
              "       [1., 0.],\n",
              "       [1., 0.],\n",
              "       ...,\n",
              "       [1., 0.],\n",
              "       [1., 0.],\n",
              "       [1., 0.]], dtype=float32)"
            ]
          },
          "metadata": {
            "tags": []
          },
          "execution_count": 6
        }
      ]
    },
    {
      "cell_type": "code",
      "metadata": {
        "id": "BWZS9FhHy4PL",
        "colab_type": "code",
        "colab": {
          "base_uri": "https://localhost:8080/",
          "height": 68
        },
        "outputId": "27401a0b-8b60-49ba-8080-4d77ff644c95"
      },
      "source": [
        "print(images_2_norm[0].shape)\n",
        "print(images_2.shape)\n",
        "print(images_norm.shape)"
      ],
      "execution_count": null,
      "outputs": [
        {
          "output_type": "stream",
          "text": [
            "(96, 96)\n",
            "(49270, 96, 96)\n",
            "(49270, 96, 96, 1)\n"
          ],
          "name": "stdout"
        }
      ]
    },
    {
      "cell_type": "markdown",
      "metadata": {
        "id": "wC1_i_8FM_8y",
        "colab_type": "text"
      },
      "source": [
        "#### Test data"
      ]
    },
    {
      "cell_type": "code",
      "metadata": {
        "id": "l563mIyKSfs8",
        "colab_type": "code",
        "colab": {
          "base_uri": "https://localhost:8080/",
          "height": 136
        },
        "outputId": "79ac136c-9544-4c16-dacb-f8b702a98841"
      },
      "source": [
        "# img_size = 96\n",
        "\n",
        "# images_test = []\n",
        "# # finger_labels_test = []\n",
        "# gender_labels_test = []\n",
        "\n",
        "# for label, feature in test:\n",
        "#     images_test.append(feature)\n",
        "#     # finger_labels_test.append(label)\n",
        "#     gender_labels_test.append(label)\n",
        "    \n",
        "# del test # to save ram\n",
        "\n",
        "# images_test = np.array(images_test).reshape(-1, img_size, img_size, 1)\n",
        "# images_2_test = np.array(images).reshape(-1, img_size, img_size)\n",
        "# images_2_test_norm = images_2_test / 255.0\n",
        "# images_norm_test = images_test / 255.0\n",
        "# # fingers_category_test = keras.utils.to_categorical(finger_labels_test, num_classes = 5)\n",
        "# gender_category_test = keras.utils.to_categorical(gender_labels_test, num_classes=2)\n",
        "# gender_category_test"
      ],
      "execution_count": null,
      "outputs": [
        {
          "output_type": "execute_result",
          "data": {
            "text/plain": [
              "array([[0., 1.],\n",
              "       [1., 0.],\n",
              "       [1., 0.],\n",
              "       ...,\n",
              "       [0., 1.],\n",
              "       [1., 0.],\n",
              "       [0., 1.]], dtype=float32)"
            ]
          },
          "metadata": {
            "tags": []
          },
          "execution_count": 13
        }
      ]
    },
    {
      "cell_type": "code",
      "metadata": {
        "id": "5Jr5PXdvvnEi",
        "colab_type": "code",
        "colab": {}
      },
      "source": [
        "# # pickle write gender_category_test\n",
        "\n",
        "# date_of_launch = str(datetime.date.today())\n",
        "# fileObject = open('/content/drive/My Drive/CIS-700/Final/pickled_gender_category_test' + date_of_launch + '.pickle', 'wb')\n",
        "# pickle.dump(gender_category_test, fileObject)\n",
        "# fileObject.close()"
      ],
      "execution_count": null,
      "outputs": []
    },
    {
      "cell_type": "code",
      "metadata": {
        "id": "PKMppQPXvnWO",
        "colab_type": "code",
        "colab": {
          "base_uri": "https://localhost:8080/",
          "height": 136
        },
        "outputId": "6c3209ed-200b-4c46-dd3f-7089387365dd"
      },
      "source": [
        "# pickle read gender_category_test\n",
        "fileObject = open('/content/drive/My Drive/CIS-700/Final/pickled_gender_category_test2020-06-06.pickle', 'rb')\n",
        "gender_category_test = pickle.load(fileObject)\n",
        "fileObject.close()\n",
        "gender_category_test"
      ],
      "execution_count": null,
      "outputs": [
        {
          "output_type": "execute_result",
          "data": {
            "text/plain": [
              "array([[0., 1.],\n",
              "       [1., 0.],\n",
              "       [1., 0.],\n",
              "       ...,\n",
              "       [0., 1.],\n",
              "       [1., 0.],\n",
              "       [0., 1.]], dtype=float32)"
            ]
          },
          "metadata": {
            "tags": []
          },
          "execution_count": 7
        }
      ]
    },
    {
      "cell_type": "code",
      "metadata": {
        "id": "P2YTpbyESfs_",
        "colab_type": "code",
        "colab": {}
      },
      "source": [
        "# sklearn method specifically designed to split data into train and test sets randomly and by percentage\n",
        "\n",
        "# fingers target\n",
        "# images_train, images_validation, fingers_train, fingers_validation = train_test_split(\n",
        "#     images_norm, fingers_category, test_size=0.2, random_state=1)\n",
        "\n",
        "#gender target\n",
        "images_train, images_validation, gender_train, gender_validation = train_test_split(\n",
        "    images_norm, gender_category, test_size=0.2, random_state=1) # 80/20 split"
      ],
      "execution_count": null,
      "outputs": []
    },
    {
      "cell_type": "code",
      "metadata": {
        "id": "wo0tnJVbSftC",
        "colab_type": "code",
        "colab": {
          "base_uri": "https://localhost:8080/",
          "height": 85
        },
        "outputId": "8fc09950-ef9e-4b71-8f7d-ca44342d60f0"
      },
      "source": [
        "print(f'Full data:   {images_norm.shape}')\n",
        "print(\"Train:      \",images_train.shape)\n",
        "print(\"Validation: \",images_validation.shape)\n",
        "print(\"Test:       \",images_norm_test.shape)"
      ],
      "execution_count": null,
      "outputs": [
        {
          "output_type": "stream",
          "text": [
            "Full data:   (49270, 96, 96, 1)\n",
            "Train:       (39416, 96, 96, 1)\n",
            "Validation:  (9854, 96, 96, 1)\n",
            "Test:        (6000, 96, 96, 1)\n"
          ],
          "name": "stdout"
        }
      ]
    },
    {
      "cell_type": "markdown",
      "metadata": {
        "id": "h5-0w0hj32GN",
        "colab_type": "text"
      },
      "source": [
        "#### Principal Component Analysis"
      ]
    },
    {
      "cell_type": "code",
      "metadata": {
        "id": "FAm8JLjNKhPr",
        "colab_type": "code",
        "colab": {}
      },
      "source": [
        "# feature correlation\n",
        "from sklearn.preprocessing import StandardScaler\n",
        "scaler = StandardScaler()\n",
        "# Fit on training set only.\n",
        "scaler.fit(images_2_norm[0])\n",
        "# Apply transform to both the training set and the test set.\n",
        "train_img = scaler.transform(images_2_norm[0])"
      ],
      "execution_count": null,
      "outputs": []
    },
    {
      "cell_type": "code",
      "metadata": {
        "id": "E7ePhY_PKp-f",
        "colab_type": "code",
        "colab": {}
      },
      "source": [
        "from sklearn.decomposition import PCA\n",
        "# Make an instance of the Model with 90% variance\n",
        "pca = PCA(.90)\n",
        "# pca_100 = PCA(.9999999999)"
      ],
      "execution_count": null,
      "outputs": []
    },
    {
      "cell_type": "code",
      "metadata": {
        "id": "3MO0bF4UMKNS",
        "colab_type": "code",
        "colab": {
          "base_uri": "https://localhost:8080/",
          "height": 34
        },
        "outputId": "e38a160d-9f87-479e-8924-6f2b3d656514"
      },
      "source": [
        "pca.fit(images_2_norm[0])\n",
        "# pca_100.fit(images_2_norm[0])\n",
        "variance = pca.explained_variance_ratio_\n",
        "# variance_100 = pca_100.explained_variance_ratio_\n",
        "print(len(variance))\n",
        "# print(len(variance_100))"
      ],
      "execution_count": null,
      "outputs": [
        {
          "output_type": "stream",
          "text": [
            "22\n"
          ],
          "name": "stdout"
        }
      ]
    },
    {
      "cell_type": "code",
      "metadata": {
        "id": "iRmAhNEKzc8g",
        "colab_type": "code",
        "colab": {
          "base_uri": "https://localhost:8080/",
          "height": 102
        },
        "outputId": "b626d98a-cffa-48fd-dbae-730cf81d5909"
      },
      "source": [
        "print(variance)\n",
        "# print(variance_100)\n",
        "# then feature reduction to drop\n",
        "print(sum(variance))"
      ],
      "execution_count": null,
      "outputs": [
        {
          "output_type": "stream",
          "text": [
            "[0.4266861  0.05111918 0.0500476  0.04583803 0.03904587 0.03550169\n",
            " 0.03077492 0.02612149 0.02336733 0.02186439 0.02099471 0.01725987\n",
            " 0.01596465 0.0154915  0.01352779 0.01330078 0.01160045 0.0108228\n",
            " 0.00980883 0.0088073  0.00843005 0.00791017]\n",
            "0.9042855088807659\n"
          ],
          "name": "stdout"
        }
      ]
    },
    {
      "cell_type": "code",
      "metadata": {
        "id": "4zYB1leqrLZP",
        "colab_type": "code",
        "colab": {
          "base_uri": "https://localhost:8080/",
          "height": 238
        },
        "outputId": "94d50ffa-bb7f-45fa-f54c-47e9a945a019"
      },
      "source": [
        "column_variance = images_2_norm.var(axis=0)\n",
        "column_variance"
      ],
      "execution_count": null,
      "outputs": [
        {
          "output_type": "execute_result",
          "data": {
            "text/plain": [
              "array([[2.22731227e-04, 2.33211279e-04, 2.33211279e-04, ...,\n",
              "        1.35349273e-03, 1.47563955e-04, 9.75729009e-06],\n",
              "       [2.33211279e-04, 2.39487264e-03, 2.09890825e-03, ...,\n",
              "        7.71054792e-03, 5.40746607e-04, 4.33657337e-06],\n",
              "       [1.64910248e-04, 2.71035836e-03, 1.35129667e-06, ...,\n",
              "        7.52877321e-03, 5.57008758e-04, 0.00000000e+00],\n",
              "       ...,\n",
              "       [1.63601903e-03, 5.45419052e-03, 6.06492577e-03, ...,\n",
              "        6.39044863e-03, 4.79234458e-04, 1.52936748e-06],\n",
              "       [1.96146440e-03, 6.05867440e-03, 5.98638553e-03, ...,\n",
              "        6.80593884e-03, 5.88656645e-04, 4.38265269e-07],\n",
              "       [8.42292206e-09, 2.80866698e-09, 5.61630766e-09, ...,\n",
              "        0.00000000e+00, 1.12285102e-08, 0.00000000e+00]])"
            ]
          },
          "metadata": {
            "tags": []
          },
          "execution_count": 46
        }
      ]
    },
    {
      "cell_type": "code",
      "metadata": {
        "id": "rMo99Mroi5Ii",
        "colab_type": "code",
        "colab": {}
      },
      "source": [
        "# for i in range(96):\n",
        "#   if sum(column_variance[i]) > 1:\n",
        "#     print(f'{i} -> {sum(column_variance[i])}')"
      ],
      "execution_count": null,
      "outputs": []
    },
    {
      "cell_type": "markdown",
      "metadata": {
        "id": "XwI-T4VkOBRY",
        "colab_type": "text"
      },
      "source": [
        ""
      ]
    },
    {
      "cell_type": "markdown",
      "metadata": {
        "id": "zk8O-FUtOKmC",
        "colab_type": "text"
      },
      "source": [
        "### Mutual Information and Information Gain\n"
      ]
    },
    {
      "cell_type": "markdown",
      "metadata": {
        "id": "reJEs5Y5SftF",
        "colab_type": "text"
      },
      "source": [
        "#### Model\n",
        "I've created three different models.\n",
        "\n",
        "Each of the cells below creates the model and also handles the correlation which is the convolution. In other words, convolution in a neural network is correlation.\n",
        "\n",
        "For the first model, in trying to optimize the model based on the training, I created three layers.\n",
        "\n",
        "The first layer has two convolutions, one max pool and one dropout to try to manage the input.\n",
        "\n",
        "The second layer, I do the same thing except I create a doubly wide set of filters.\n",
        "\n",
        "In the third layer, I flatten the data out and use Dense to finalize the data and bring the data into the five finger type categories.\n",
        "\n",
        "For the second model, I'm using a different activation function selu instead of relu and a different type of pooling classifier. What I noticed is that model 2 is more efficient, faster, and even more accurate than model 1 even though my density classifier is half as much as in the first model.\n",
        "\n",
        "The third model is self-explanatory.\n"
      ]
    },
    {
      "cell_type": "code",
      "metadata": {
        "id": "sgYJnXSfSftG",
        "colab_type": "code",
        "colab": {
          "base_uri": "https://localhost:8080/",
          "height": 527
        },
        "outputId": "0986b5fe-f115-455e-93be-33aad18bcd61"
      },
      "source": [
        "model = tf.keras.Sequential() # instantiates a stack of sequential layers.\n",
        "\n",
        "# Layer 1 - Input Layer\n",
        "model.add(tf.keras.layers.Conv2D(filters=16, kernel_size=(3,3), padding='same', \n",
        "                activation='relu', input_shape=(96,96,1)))\n",
        "model.add(tf.keras.layers.Conv2D(filters=32, kernel_size=(3,3), padding='same', \n",
        "                activation='relu', input_shape=(96,96,1)))\n",
        "model.add(tf.keras.layers.MaxPool2D(pool_size=(2,2)))\n",
        "model.add(tf.keras.layers.Dropout(0.25))\n",
        "\n",
        "# Layer 2 - Hidden Layer\n",
        "model.add(tf.keras.layers.Conv2D(filters=64, kernel_size=(3,3), padding='same', \n",
        "                activation='relu'))\n",
        "model.add(tf.keras.layers.MaxPool2D(pool_size=(2,2), strides=(2,2)))\n",
        "model.add(tf.keras.layers.Dropout(0.25))\n",
        "\n",
        "# Layer 3 - Output Layer\n",
        "model.add(tf.keras.layers.Flatten())\n",
        "model.add(tf.keras.layers.Dense(100, activation=\"relu\")) # without this I get 99.90 but the graph is jumpier.\n",
        "model.add(tf.keras.layers.Dropout(0.25))\n",
        "# model.add(tf.keras.layers.Dense(5, activation=\"softmax\"))\n",
        "model.add(tf.keras.layers.Dense(2, activation=\"softmax\"))\n",
        "\n",
        "model.summary()"
      ],
      "execution_count": null,
      "outputs": [
        {
          "output_type": "stream",
          "text": [
            "Model: \"sequential_2\"\n",
            "_________________________________________________________________\n",
            "Layer (type)                 Output Shape              Param #   \n",
            "=================================================================\n",
            "conv2d_6 (Conv2D)            (None, 96, 96, 16)        160       \n",
            "_________________________________________________________________\n",
            "conv2d_7 (Conv2D)            (None, 96, 96, 32)        4640      \n",
            "_________________________________________________________________\n",
            "max_pooling2d_4 (MaxPooling2 (None, 48, 48, 32)        0         \n",
            "_________________________________________________________________\n",
            "dropout_6 (Dropout)          (None, 48, 48, 32)        0         \n",
            "_________________________________________________________________\n",
            "conv2d_8 (Conv2D)            (None, 48, 48, 64)        18496     \n",
            "_________________________________________________________________\n",
            "max_pooling2d_5 (MaxPooling2 (None, 24, 24, 64)        0         \n",
            "_________________________________________________________________\n",
            "dropout_7 (Dropout)          (None, 24, 24, 64)        0         \n",
            "_________________________________________________________________\n",
            "flatten_2 (Flatten)          (None, 36864)             0         \n",
            "_________________________________________________________________\n",
            "dense_4 (Dense)              (None, 100)               3686500   \n",
            "_________________________________________________________________\n",
            "dropout_8 (Dropout)          (None, 100)               0         \n",
            "_________________________________________________________________\n",
            "dense_5 (Dense)              (None, 2)                 202       \n",
            "=================================================================\n",
            "Total params: 3,709,998\n",
            "Trainable params: 3,709,998\n",
            "Non-trainable params: 0\n",
            "_________________________________________________________________\n"
          ],
          "name": "stdout"
        }
      ]
    },
    {
      "cell_type": "markdown",
      "metadata": {
        "id": "j-sv5f79ONPX",
        "colab_type": "text"
      },
      "source": [
        "The model summary above shows the correlation (the convolutions) and all the classifiers used in the model.\n",
        "\n",
        "The output shape shows that the shape of the image is reduced at each layer from 96 X 96 to 48 X 48 to 24 X 24, but at the same time increasing the filters from 1 to 32 to 64 to 36864 to 100 to 5 which represent the output label classifiers.\n",
        "\n",
        "It is training a total of 3,731,965 values in the model above.\n",
        "\n",
        "The model below will do something similar but I changed the correlation and classifiers to show a difference.\n",
        "\n",
        "In Model 2 I am using a exponential activating function called selu, an average pooling layer and spatial dropout."
      ]
    },
    {
      "cell_type": "code",
      "metadata": {
        "id": "i7EkSSjIOBho",
        "colab_type": "code",
        "colab": {
          "base_uri": "https://localhost:8080/",
          "height": 493
        },
        "outputId": "ae9964b3-7476-471f-cc19-54a2357978fc"
      },
      "source": [
        "# Second model\n",
        "model2 = tf.keras.Sequential() # instantiates a stack of sequential layers.\n",
        "\n",
        "# Layer 1 - Input Layer\n",
        "model2.add(tf.keras.layers.Conv2D(filters=32, kernel_size=(3,3), padding='same', \n",
        "                activation =tf.nn.selu, input_shape = (96,96,1))) # Using a different activation function called selu\n",
        "model2.add(tf.keras.layers.AvgPool2D(pool_size=(2,2)))\n",
        "model2.add(tf.keras.layers.SpatialDropout2D(0.20))\n",
        "\n",
        "# Layer 2 - Hidden Layer\n",
        "model2.add(tf.keras.layers.Conv2D(filters=64, kernel_size=(3,3), padding='same', \n",
        "                activation=tf.nn.selu))\n",
        "model2.add(tf.keras.layers.AvgPool2D(pool_size=(2,2)))\n",
        "model2.add(tf.keras.layers.SpatialDropout2D(0.20))\n",
        "\n",
        "# Layer 3 - Output Layer\n",
        "model2.add(tf.keras.layers.Flatten())\n",
        "model2.add(tf.keras.layers.Dense(50, activation=tf.nn.selu))\n",
        "model2.add(tf.keras.layers.Dropout(0.25))\n",
        "# model2.add(tf.keras.layers.Dense(5, activation=\"softmax\"))\n",
        "model2.add(tf.keras.layers.Dense(2, activation=\"softmax\"))\n",
        "\n",
        "model2.summary()"
      ],
      "execution_count": null,
      "outputs": [
        {
          "output_type": "stream",
          "text": [
            "Model: \"sequential_1\"\n",
            "_________________________________________________________________\n",
            "Layer (type)                 Output Shape              Param #   \n",
            "=================================================================\n",
            "conv2d_3 (Conv2D)            (None, 96, 96, 32)        320       \n",
            "_________________________________________________________________\n",
            "average_pooling2d (AveragePo (None, 48, 48, 32)        0         \n",
            "_________________________________________________________________\n",
            "spatial_dropout2d (SpatialDr (None, 48, 48, 32)        0         \n",
            "_________________________________________________________________\n",
            "conv2d_4 (Conv2D)            (None, 48, 48, 64)        18496     \n",
            "_________________________________________________________________\n",
            "average_pooling2d_1 (Average (None, 24, 24, 64)        0         \n",
            "_________________________________________________________________\n",
            "spatial_dropout2d_1 (Spatial (None, 24, 24, 64)        0         \n",
            "_________________________________________________________________\n",
            "flatten_1 (Flatten)          (None, 36864)             0         \n",
            "_________________________________________________________________\n",
            "dense_2 (Dense)              (None, 50)                1843250   \n",
            "_________________________________________________________________\n",
            "dropout_3 (Dropout)          (None, 50)                0         \n",
            "_________________________________________________________________\n",
            "dense_3 (Dense)              (None, 2)                 102       \n",
            "=================================================================\n",
            "Total params: 1,862,168\n",
            "Trainable params: 1,862,168\n",
            "Non-trainable params: 0\n",
            "_________________________________________________________________\n"
          ],
          "name": "stdout"
        }
      ]
    },
    {
      "cell_type": "code",
      "metadata": {
        "id": "UrYSl-d9F0IA",
        "colab_type": "code",
        "colab": {
          "base_uri": "https://localhost:8080/",
          "height": 493
        },
        "outputId": "6e31cf49-ce3d-4bfc-e784-d55eaefcdb42"
      },
      "source": [
        "# Third model\n",
        "model3 = tf.keras.Sequential() # instantiates a stack of sequential layers.\n",
        "\n",
        "# Layer 1 - Input Layer\n",
        "model3.add(tf.keras.layers.Conv2D(filters=64, kernel_size=(3,3), padding='same', \n",
        "                activation =\"relu\", input_shape = (96,96,1))) # Using a different activation function called selu\n",
        "model3.add(tf.keras.layers.AvgPool2D(pool_size=(2,2)))\n",
        "model3.add(tf.keras.layers.Dropout(0.20))\n",
        "\n",
        "# Layer 2 - Hidden Layer\n",
        "model3.add(tf.keras.layers.Conv2D(filters=128, kernel_size=(3,3), padding='same', \n",
        "                activation=\"relu\"))\n",
        "model3.add(tf.keras.layers.AvgPool2D(pool_size=(2,2)))\n",
        "model3.add(tf.keras.layers.Dropout(0.20))\n",
        "\n",
        "# Layer 3 - Output Layer\n",
        "model3.add(tf.keras.layers.Flatten())\n",
        "model3.add(tf.keras.layers.Dense(50, activation=\"relu\"))\n",
        "model3.add(tf.keras.layers.Dropout(0.20))\n",
        "# model3.add(tf.keras.layers.Dense(5, activation=\"softmax\"))\n",
        "model3.add(tf.keras.layers.Dense(2, activation=\"sigmoid\"))\n",
        "\n",
        "model3.summary()"
      ],
      "execution_count": null,
      "outputs": [
        {
          "output_type": "stream",
          "text": [
            "Model: \"sequential_2\"\n",
            "_________________________________________________________________\n",
            "Layer (type)                 Output Shape              Param #   \n",
            "=================================================================\n",
            "conv2d_5 (Conv2D)            (None, 96, 96, 64)        640       \n",
            "_________________________________________________________________\n",
            "average_pooling2d_2 (Average (None, 48, 48, 64)        0         \n",
            "_________________________________________________________________\n",
            "dropout_4 (Dropout)          (None, 48, 48, 64)        0         \n",
            "_________________________________________________________________\n",
            "conv2d_6 (Conv2D)            (None, 48, 48, 128)       73856     \n",
            "_________________________________________________________________\n",
            "average_pooling2d_3 (Average (None, 24, 24, 128)       0         \n",
            "_________________________________________________________________\n",
            "dropout_5 (Dropout)          (None, 24, 24, 128)       0         \n",
            "_________________________________________________________________\n",
            "flatten_2 (Flatten)          (None, 73728)             0         \n",
            "_________________________________________________________________\n",
            "dense_4 (Dense)              (None, 50)                3686450   \n",
            "_________________________________________________________________\n",
            "dropout_6 (Dropout)          (None, 50)                0         \n",
            "_________________________________________________________________\n",
            "dense_5 (Dense)              (None, 2)                 102       \n",
            "=================================================================\n",
            "Total params: 3,761,048\n",
            "Trainable params: 3,761,048\n",
            "Non-trainable params: 0\n",
            "_________________________________________________________________\n"
          ],
          "name": "stdout"
        }
      ]
    },
    {
      "cell_type": "markdown",
      "metadata": {
        "id": "YHiUcX3q84I5",
        "colab_type": "text"
      },
      "source": [
        "Below, I train two different models.\n",
        "\n",
        "I could have used more epochs (e.g. 20+ instead of 12) but when looking at the accuracy, the extra time was not worth the minimal gain in accuracy from approximately 95% to 99%.\n",
        "\n",
        "Each epoch in model 1 took about 60 seconds to complete, whereas each epoch in model 2 took about 30 seconds for a similar result.\n",
        "\n"
      ]
    },
    {
      "cell_type": "code",
      "metadata": {
        "id": "J20a4-2SSftJ",
        "colab_type": "code",
        "colab": {
          "base_uri": "https://localhost:8080/",
          "height": 425
        },
        "outputId": "abe57878-210e-4764-ac68-f14c2d79de38"
      },
      "source": [
        "#For Model 1\n",
        "epochs = 6 # 20+ gets me an accuracy in the 99.8% range but it takes much longer to train even with a GPU.\n",
        "batch_size = 34\n",
        "model_path = '/content/drive/My Drive/CIS-700/Final/Model_1.h5' #.Model_1.h5\n",
        "\n",
        "model.compile(optimizer='adam', loss=\"categorical_crossentropy\", metrics=[\"accuracy\"])\n",
        "\n",
        "# Set a learning rate\n",
        "callbacks = [\n",
        "    tf.keras.callbacks.EarlyStopping(monitor='val_accuracy', patience=10, mode='max', verbose=1),\n",
        "    tf.keras.callbacks.ModelCheckpoint(model_path, monitor='val_accuracy', save_best_only=True, mode='max', verbose=1),\n",
        "    tf.keras.callbacks.ReduceLROnPlateau(factor=0.1, patience=5, min_lr=0.0001, verbose=1)\n",
        "]\n",
        "\n",
        "# history = model.fit(images_train, fingers_train, batch_size=batch_size, epochs=epochs, \n",
        "#                     validation_data = (images_validation, fingers_validation), verbose = 1, callbacks=callbacks)\n",
        "\n",
        "history = model.fit(images_train, gender_train, batch_size=batch_size, epochs=epochs, \n",
        "                    validation_data = (images_validation, gender_validation), verbose = 1, callbacks=callbacks)\n",
        "tf.keras.backend.clear_session()"
      ],
      "execution_count": null,
      "outputs": [
        {
          "output_type": "stream",
          "text": [
            "Epoch 1/6\n",
            "1160/1160 [==============================] - ETA: 0s - loss: 0.4562 - accuracy: 0.8009\n",
            "Epoch 00001: val_accuracy improved from -inf to 0.81530, saving model to /content/drive/My Drive/CIS-700/Final/Model_1.h5\n",
            "1160/1160 [==============================] - 15s 13ms/step - loss: 0.4562 - accuracy: 0.8009 - val_loss: 0.4348 - val_accuracy: 0.8153 - lr: 0.0010\n",
            "Epoch 2/6\n",
            "1156/1160 [============================>.] - ETA: 0s - loss: 0.3751 - accuracy: 0.8328\n",
            "Epoch 00002: val_accuracy improved from 0.81530 to 0.88451, saving model to /content/drive/My Drive/CIS-700/Final/Model_1.h5\n",
            "1160/1160 [==============================] - 14s 12ms/step - loss: 0.3750 - accuracy: 0.8328 - val_loss: 0.3114 - val_accuracy: 0.8845 - lr: 0.0010\n",
            "Epoch 3/6\n",
            "1156/1160 [============================>.] - ETA: 0s - loss: 0.2408 - accuracy: 0.8998\n",
            "Epoch 00003: val_accuracy improved from 0.88451 to 0.96255, saving model to /content/drive/My Drive/CIS-700/Final/Model_1.h5\n",
            "1160/1160 [==============================] - 14s 12ms/step - loss: 0.2407 - accuracy: 0.8998 - val_loss: 0.1419 - val_accuracy: 0.9626 - lr: 0.0010\n",
            "Epoch 4/6\n",
            "1156/1160 [============================>.] - ETA: 0s - loss: 0.1366 - accuracy: 0.9469\n",
            "Epoch 00004: val_accuracy improved from 0.96255 to 0.98579, saving model to /content/drive/My Drive/CIS-700/Final/Model_1.h5\n",
            "1160/1160 [==============================] - 14s 12ms/step - loss: 0.1366 - accuracy: 0.9469 - val_loss: 0.0641 - val_accuracy: 0.9858 - lr: 0.0010\n",
            "Epoch 5/6\n",
            "1156/1160 [============================>.] - ETA: 0s - loss: 0.0864 - accuracy: 0.9678\n",
            "Epoch 00005: val_accuracy improved from 0.98579 to 0.99188, saving model to /content/drive/My Drive/CIS-700/Final/Model_1.h5\n",
            "1160/1160 [==============================] - 14s 12ms/step - loss: 0.0863 - accuracy: 0.9678 - val_loss: 0.0384 - val_accuracy: 0.9919 - lr: 0.0010\n",
            "Epoch 6/6\n",
            "1156/1160 [============================>.] - ETA: 0s - loss: 0.0629 - accuracy: 0.9772\n",
            "Epoch 00006: val_accuracy did not improve from 0.99188\n",
            "1160/1160 [==============================] - 14s 12ms/step - loss: 0.0629 - accuracy: 0.9772 - val_loss: 0.0467 - val_accuracy: 0.9864 - lr: 0.0010\n"
          ],
          "name": "stdout"
        }
      ]
    },
    {
      "cell_type": "code",
      "metadata": {
        "id": "Fe64SAP3PaBG",
        "colab_type": "code",
        "colab": {
          "base_uri": "https://localhost:8080/",
          "height": 425
        },
        "outputId": "bddc318b-9347-4b95-a017-4b77a4cb7879"
      },
      "source": [
        "# For Model 2\n",
        "epochs = 6 # 20+ gets me an accuracy in the 99.8% range but it takes much longer to train even with a GPU.\n",
        "batch_size = 34\n",
        "model_path = '/content/drive/My Drive/CIS-700/Final/Model_2.h5' #.Model_2.h5\n",
        "\n",
        "model2.compile(optimizer='adam', loss=\"categorical_crossentropy\", metrics=[\"accuracy\"]) # using sparse_categorical\n",
        "\n",
        "# Set a learning rate\n",
        "callbacks = [\n",
        "    tf.keras.callbacks.EarlyStopping(monitor='val_accuracy', patience=10, mode='max', verbose=1),\n",
        "    tf.keras.callbacks.ModelCheckpoint(model_path, monitor='val_accuracy', save_best_only=True, mode='max', verbose=1),\n",
        "    tf.keras.callbacks.ReduceLROnPlateau(factor=0.1, patience=5, min_lr=0.0001, verbose=1)\n",
        "]\n",
        "\n",
        "# history2 = model2.fit(images_train, fingers_train, batch_size=batch_size, epochs=epochs, \n",
        "#                     validation_data = (images_validation, fingers_validation), verbose=1, callbacks=callbacks)\n",
        "\n",
        "history2 = model2.fit(images_train, gender_train, batch_size=batch_size, epochs=epochs,\n",
        "                      validation_data = (images_validation, gender_validation), verbose=1, callbacks=callbacks)"
      ],
      "execution_count": null,
      "outputs": [
        {
          "output_type": "stream",
          "text": [
            "Epoch 1/6\n",
            "1160/1160 [==============================] - ETA: 0s - loss: 0.6191 - accuracy: 0.7654\n",
            "Epoch 00001: val_accuracy improved from -inf to 0.79643, saving model to /content/drive/My Drive/CIS-700/Final/Model_2.h5\n",
            "1160/1160 [==============================] - 11s 9ms/step - loss: 0.6191 - accuracy: 0.7654 - val_loss: 0.5121 - val_accuracy: 0.7964 - lr: 0.0010\n",
            "Epoch 2/6\n",
            "1155/1160 [============================>.] - ETA: 0s - loss: 0.5046 - accuracy: 0.8012\n",
            "Epoch 00002: val_accuracy did not improve from 0.79643\n",
            "1160/1160 [==============================] - 10s 9ms/step - loss: 0.5045 - accuracy: 0.8013 - val_loss: 0.5092 - val_accuracy: 0.7964 - lr: 0.0010\n",
            "Epoch 3/6\n",
            "1157/1160 [============================>.] - ETA: 0s - loss: 0.5021 - accuracy: 0.8013\n",
            "Epoch 00003: val_accuracy did not improve from 0.79643\n",
            "1160/1160 [==============================] - 10s 9ms/step - loss: 0.5021 - accuracy: 0.8013 - val_loss: 0.5061 - val_accuracy: 0.7964 - lr: 0.0010\n",
            "Epoch 4/6\n",
            "1156/1160 [============================>.] - ETA: 0s - loss: 0.5029 - accuracy: 0.8012\n",
            "Epoch 00004: val_accuracy did not improve from 0.79643\n",
            "1160/1160 [==============================] - 10s 9ms/step - loss: 0.5026 - accuracy: 0.8013 - val_loss: 0.5099 - val_accuracy: 0.7964 - lr: 0.0010\n",
            "Epoch 5/6\n",
            "1156/1160 [============================>.] - ETA: 0s - loss: 0.5018 - accuracy: 0.8013\n",
            "Epoch 00005: val_accuracy did not improve from 0.79643\n",
            "1160/1160 [==============================] - 10s 9ms/step - loss: 0.5018 - accuracy: 0.8013 - val_loss: 0.5054 - val_accuracy: 0.7964 - lr: 0.0010\n",
            "Epoch 6/6\n",
            "1156/1160 [============================>.] - ETA: 0s - loss: 0.5026 - accuracy: 0.8014\n",
            "Epoch 00006: val_accuracy did not improve from 0.79643\n",
            "1160/1160 [==============================] - 10s 9ms/step - loss: 0.5027 - accuracy: 0.8013 - val_loss: 0.5053 - val_accuracy: 0.7964 - lr: 0.0010\n"
          ],
          "name": "stdout"
        }
      ]
    },
    {
      "cell_type": "code",
      "metadata": {
        "id": "e0w0bWLvMRo9",
        "colab_type": "code",
        "colab": {
          "base_uri": "https://localhost:8080/",
          "height": 425
        },
        "outputId": "21327914-3c8d-4419-a064-2ee3cc65232d"
      },
      "source": [
        "# For Model 3\n",
        "epochs = 6 # 20+ gets me an accuracy in the 99.8% range but it takes much longer to train even with a GPU.\n",
        "batch_size = 34\n",
        "model_path = '/content/drive/My Drive/CIS-700/Final/Model_3.h5' #.Model_3.h7\n",
        "\n",
        "model3.compile(optimizer='adam', loss=\"categorical_crossentropy\", metrics=[\"accuracy\"]) # using sparse_categorical\n",
        "\n",
        "# Set a learning rate\n",
        "callbacks = [\n",
        "    tf.keras.callbacks.EarlyStopping(monitor='val_accuracy', patience=10, mode='max', verbose=1),\n",
        "    tf.keras.callbacks.ModelCheckpoint(model_path, monitor='val_accuracy', save_best_only=True, mode='max', verbose=1),\n",
        "    tf.keras.callbacks.ReduceLROnPlateau(factor=0.1, patience=5, min_lr=0.0001, verbose=1)\n",
        "]\n",
        "\n",
        "# history2 = model2.fit(images_train, fingers_train, batch_size=batch_size, epochs=epochs, \n",
        "#                     validation_data = (images_validation, fingers_validation), verbose=1, callbacks=callbacks)\n",
        "\n",
        "history3 = model3.fit(images_train, gender_train, batch_size=batch_size, epochs=epochs,\n",
        "                      validation_data = (images_validation, gender_validation), verbose=1, callbacks=callbacks)\n",
        "tf.keras.backend.clear_session()"
      ],
      "execution_count": null,
      "outputs": [
        {
          "output_type": "stream",
          "text": [
            "Epoch 1/6\n",
            "1160/1160 [==============================] - ETA: 0s - loss: 0.4721 - accuracy: 0.8013\n",
            "Epoch 00001: val_accuracy improved from -inf to 0.79643, saving model to /content/drive/My Drive/CIS-700/Final/Model_3.h5\n",
            "1160/1160 [==============================] - 20s 17ms/step - loss: 0.4721 - accuracy: 0.8013 - val_loss: 0.4755 - val_accuracy: 0.7964 - lr: 0.0010\n",
            "Epoch 2/6\n",
            "1157/1160 [============================>.] - ETA: 0s - loss: 0.4346 - accuracy: 0.8030\n",
            "Epoch 00002: val_accuracy improved from 0.79643 to 0.81074, saving model to /content/drive/My Drive/CIS-700/Final/Model_3.h5\n",
            "1160/1160 [==============================] - 18s 15ms/step - loss: 0.4347 - accuracy: 0.8031 - val_loss: 0.4106 - val_accuracy: 0.8107 - lr: 0.0010\n",
            "Epoch 3/6\n",
            "1157/1160 [============================>.] - ETA: 0s - loss: 0.3837 - accuracy: 0.8288\n",
            "Epoch 00003: val_accuracy improved from 0.81074 to 0.83672, saving model to /content/drive/My Drive/CIS-700/Final/Model_3.h5\n",
            "1160/1160 [==============================] - 18s 15ms/step - loss: 0.3835 - accuracy: 0.8289 - val_loss: 0.3400 - val_accuracy: 0.8367 - lr: 0.0010\n",
            "Epoch 4/6\n",
            "1157/1160 [============================>.] - ETA: 0s - loss: 0.3000 - accuracy: 0.8660\n",
            "Epoch 00004: val_accuracy improved from 0.83672 to 0.89141, saving model to /content/drive/My Drive/CIS-700/Final/Model_3.h5\n",
            "1160/1160 [==============================] - 18s 15ms/step - loss: 0.3001 - accuracy: 0.8660 - val_loss: 0.2501 - val_accuracy: 0.8914 - lr: 0.0010\n",
            "Epoch 5/6\n",
            "1157/1160 [============================>.] - ETA: 0s - loss: 0.2223 - accuracy: 0.9012\n",
            "Epoch 00005: val_accuracy improved from 0.89141 to 0.93018, saving model to /content/drive/My Drive/CIS-700/Final/Model_3.h5\n",
            "1160/1160 [==============================] - 18s 15ms/step - loss: 0.2222 - accuracy: 0.9013 - val_loss: 0.1674 - val_accuracy: 0.9302 - lr: 0.0010\n",
            "Epoch 6/6\n",
            "1157/1160 [============================>.] - ETA: 0s - loss: 0.1668 - accuracy: 0.9314\n",
            "Epoch 00006: val_accuracy improved from 0.93018 to 0.95200, saving model to /content/drive/My Drive/CIS-700/Final/Model_3.h5\n",
            "1160/1160 [==============================] - 18s 15ms/step - loss: 0.1667 - accuracy: 0.9314 - val_loss: 0.1260 - val_accuracy: 0.9520 - lr: 0.0010\n"
          ],
          "name": "stdout"
        }
      ]
    },
    {
      "cell_type": "markdown",
      "metadata": {
        "id": "QhZ5gMheqBn7",
        "colab_type": "text"
      },
      "source": [
        "Stats and Visualization"
      ]
    },
    {
      "cell_type": "code",
      "metadata": {
        "id": "vB_r6gl4hYWb",
        "colab_type": "code",
        "colab": {
          "base_uri": "https://localhost:8080/",
          "height": 986
        },
        "outputId": "beacac81-1b4f-4126-f2ab-957fea2f469f"
      },
      "source": [
        "#Model 1\n",
        "accuracy_1 = history.history['accuracy']\n",
        "validation_acc_1 = history.history['val_accuracy']\n",
        "loss_1 = history.history['loss']\n",
        "validation_loss_1 = history.history['val_loss']\n",
        "\n",
        "#Model 2\n",
        "accuracy_2 = history2.history['accuracy']\n",
        "validation_acc_2 = history2.history['val_accuracy']\n",
        "loss_2 = history2.history['loss']\n",
        "validation_loss_2 = history2.history['val_loss']\n",
        "\n",
        "#Model 3\n",
        "accuracy_3 = history3.history['accuracy']\n",
        "validation_acc_3 = history3.history['val_accuracy']\n",
        "loss_3 = history3.history['loss']\n",
        "validation_loss_3 = history3.history['val_loss']\n",
        "\n",
        "epochs = range(1, len(accuracy_1) + 1)\n",
        "\n",
        "fig = plt.figure(figsize=(14, 7))\n",
        "ax = fig.add_subplot(111)\n",
        "ax.tick_params(axis='both', labelsize=12, colors='white')\n",
        "\n",
        "# Model 1\n",
        "plt.plot(epochs, accuracy_1, label='Training accuracy Model 1')\n",
        "plt.plot(epochs, validation_acc_1, label='Validation accuracy Model 1')\n",
        "\n",
        "# Model 2\n",
        "plt.plot(epochs, accuracy_2, label='Training accuracy Model 2')\n",
        "plt.plot(epochs, validation_acc_2, label='Validation accuracy Model 2')\n",
        "\n",
        "# Model 3\n",
        "plt.plot(epochs, accuracy_3, label=\"Training accuracy Model 3\")\n",
        "plt.plot(epochs, validation_acc_3, label='Validation accuracy Model 3')\n",
        "\n",
        "plt.title('Training and Validation Accuracy', fontdict={'fontsize': 16, 'color': 'white'})\n",
        "plt.legend()\n",
        "\n",
        "plt.xlabel('Epochs', fontsize=12, weight='bold', color='white')\n",
        "plt.ylabel('Accuracy', fontsize=12, weight='bold', color='white')\n",
        "\n",
        "fig = plt.figure(figsize=(14, 7))\n",
        "ax = fig.add_subplot(111)\n",
        "ax.tick_params(axis='both', labelsize=12, colors='white')\n",
        "\n",
        "plt.axis(color='white') # SHOW AXIS OF EPOCH AND ACCURACY\n",
        "\n",
        "#Model 1\n",
        "plt.plot(epochs, loss_1, label='Training loss Model 1')\n",
        "plt.plot(epochs, validation_loss_1, label='Validation loss Model 1')\n",
        "\n",
        "#Model 2\n",
        "plt.plot(epochs, loss_2, label='Training loss Model 2')\n",
        "plt.plot(epochs, validation_loss_2, label='Validation loss Model 2')\n",
        "\n",
        "#Model 3\n",
        "plt.plot(epochs, loss_3, label='Training loss Model 3')\n",
        "plt.plot(epochs, validation_loss_3, label='Validation loss Model 3')\n",
        "\n",
        "plt.title('Training and Validation Loss', fontdict={'fontsize': 16, 'color': 'white'})\n",
        "plt.legend()\n",
        "\n",
        "plt.xlabel('Epochs', fontsize=12, weight='bold', color='white')\n",
        "plt.ylabel('Accuracy', fontsize=12, weight='bold', color='white')\n",
        "\n",
        "# score = model.evaluate([images_norm_test], [finger_category_test], verbose=1)\n",
        "score = model.evaluate([images_norm_test], [gender_category_test], verbose=1)\n",
        "print(\"Accuracy Score: \",score[1]*100)\n",
        "\n",
        "plt.show()"
      ],
      "execution_count": null,
      "outputs": [
        {
          "output_type": "stream",
          "text": [
            "/usr/local/lib/python3.6/dist-packages/ipykernel_launcher.py:47: MatplotlibDeprecationWarning: Passing unsupported keyword arguments to axis() will raise a TypeError in 3.3.\n"
          ],
          "name": "stderr"
        },
        {
          "output_type": "stream",
          "text": [
            "188/188 [==============================] - 1s 5ms/step - loss: 0.0189 - accuracy: 0.9977\n",
            "Accuracy Score:  99.76666569709778\n"
          ],
          "name": "stdout"
        },
        {
          "output_type": "display_data",
          "data": {
            "image/png": "[encoded data removed]",
            "text/plain": [
              "<Figure size 1008x504 with 1 Axes>"
            ]
          },
          "metadata": {
            "tags": [],
            "needs_background": "dark"
          }
        },
        {
          "output_type": "display_data",
          "data": {
            "image/png": "[encoded data removed]",
            "text/plain": [
              "<Figure size 1008x504 with 1 Axes>"
            ]
          },
          "metadata": {
            "tags": [],
            "needs_background": "dark"
          }
        }
      ]
    },
    {
      "cell_type": "markdown",
      "metadata": {
        "id": "p9H0_qQtWIT5",
        "colab_type": "text"
      },
      "source": [
        "### ENSEMBLE\n",
        "Now all three models will be combined in an ensemble.\n",
        "Here, all three models best saved weights are loaded."
      ]
    },
    {
      "cell_type": "code",
      "metadata": {
        "id": "ZhkV_c2Ha9wj",
        "colab_type": "code",
        "colab": {
          "base_uri": "https://localhost:8080/",
          "height": 51
        },
        "outputId": "f9f96ad9-f054-4b62-f56b-47295236dd99"
      },
      "source": [
        "# from keras.models import Input\n",
        "\n",
        "input_shape = images_train[0,:,:,:].shape\n",
        "model_input = tf.keras.Input(shape=input_shape)\n",
        "print(input_shape)\n",
        "print(model_input)"
      ],
      "execution_count": null,
      "outputs": [
        {
          "output_type": "stream",
          "text": [
            "(96, 96, 1)\n",
            "Tensor(\"input_1:0\", shape=(None, 96, 96, 1), dtype=float32)\n"
          ],
          "name": "stdout"
        }
      ]
    },
    {
      "cell_type": "code",
      "metadata": {
        "id": "3fhBHBp3CtmF",
        "colab_type": "code",
        "colab": {}
      },
      "source": [
        "from tensorflow.python.framework.ops import Tensor\n",
        "\n",
        "def conv_pool_cnn(model_input: Tensor):\n",
        "    \n",
        "    x = tf.keras.layers.Conv2D(96, kernel_size=(3, 3), activation='relu', padding = 'same')(model_input)\n",
        "    x = tf.keras.layers.Conv2D(96, (3, 3), activation='relu', padding = 'same')(x)\n",
        "    x = tf.keras.layers.Conv2D(96, (3, 3), activation='relu', padding = 'same')(x)\n",
        "    x = tf.keras.layers.MaxPooling2D(pool_size=(3, 3), strides = 2)(x)\n",
        "    x = tf.keras.layers.Conv2D(192, (3, 3), activation='relu', padding = 'same')(x)\n",
        "    x = tf.keras.layers.Conv2D(192, (1, 1), activation='relu')(x)\n",
        "    # x = tf.keras.layers.Conv2D(2, (1, 1))(x)\n",
        "    x = tf.keras.layers.GlobalAveragePooling2D()(x)\n",
        "    # x = tf.keras.layers.Activation(activation='softmax')(x)\n",
        "\n",
        "    # Layer 3 - Output Layer\n",
        "    x = tf.keras.layers.Flatten()(x)\n",
        "    x = tf.keras.layers.Dense(50, activation=\"relu\")(x)\n",
        "    x = tf.keras.layers.Dropout(0.20)(x)\n",
        "    x = tf.keras.layers.Dense(2, activation=\"sigmoid\")(x)\n",
        "    \n",
        "    model = tf.keras.Model(model_input, x, name='conv_pool_cnn')\n",
        "    print(model.summary())\n",
        "    tf.keras.utils.plot_model(model, 'my_first_model_with_shape_info.png', show_shapes=True)\n",
        "    \n",
        "    return model"
      ],
      "execution_count": null,
      "outputs": []
    },
    {
      "cell_type": "code",
      "metadata": {
        "id": "pwuEOoLcDUil",
        "colab_type": "code",
        "colab": {
          "base_uri": "https://localhost:8080/",
          "height": 578
        },
        "outputId": "d3d7ae4c-ce95-47b5-dead-28dccf7e7a91"
      },
      "source": [
        "conv_pool_cnn_model = conv_pool_cnn(model_input)"
      ],
      "execution_count": null,
      "outputs": [
        {
          "output_type": "stream",
          "text": [
            "Model: \"conv_pool_cnn\"\n",
            "_________________________________________________________________\n",
            "Layer (type)                 Output Shape              Param #   \n",
            "=================================================================\n",
            "input_1 (InputLayer)         [(None, 96, 96, 1)]       0         \n",
            "_________________________________________________________________\n",
            "conv2d_17 (Conv2D)           (None, 96, 96, 96)        960       \n",
            "_________________________________________________________________\n",
            "conv2d_18 (Conv2D)           (None, 96, 96, 96)        83040     \n",
            "_________________________________________________________________\n",
            "conv2d_19 (Conv2D)           (None, 96, 96, 96)        83040     \n",
            "_________________________________________________________________\n",
            "max_pooling2d_3 (MaxPooling2 (None, 47, 47, 96)        0         \n",
            "_________________________________________________________________\n",
            "conv2d_20 (Conv2D)           (None, 47, 47, 192)       166080    \n",
            "_________________________________________________________________\n",
            "conv2d_21 (Conv2D)           (None, 47, 47, 192)       37056     \n",
            "_________________________________________________________________\n",
            "global_average_pooling2d_3 ( (None, 192)               0         \n",
            "_________________________________________________________________\n",
            "flatten_3 (Flatten)          (None, 192)               0         \n",
            "_________________________________________________________________\n",
            "dense_8 (Dense)              (None, 50)                9650      \n",
            "_________________________________________________________________\n",
            "dropout_7 (Dropout)          (None, 50)                0         \n",
            "_________________________________________________________________\n",
            "dense_9 (Dense)              (None, 2)                 102       \n",
            "=================================================================\n",
            "Total params: 379,928\n",
            "Trainable params: 379,928\n",
            "Non-trainable params: 0\n",
            "_________________________________________________________________\n",
            "None\n"
          ],
          "name": "stdout"
        }
      ]
    },
    {
      "cell_type": "code",
      "metadata": {
        "id": "ypIl4KXz7F3y",
        "colab_type": "code",
        "colab": {
          "base_uri": "https://localhost:8080/",
          "height": 442
        },
        "outputId": "e5f6b8bc-3ba9-4e56-c5c6-2f2d90ae44d8"
      },
      "source": [
        "import time\n",
        "epochs = 6 # 20+ gets me an accuracy in the 99.8% range but it takes much longer to train even with a GPU.\n",
        "batch_size = 34\n",
        "model_path = '/content/drive/My Drive/CIS-700/Final/conv_pool_cnn_model.h5'\n",
        "\n",
        "conv_pool_cnn_model.compile(optimizer='adam', loss=\"categorical_crossentropy\", metrics=[\"accuracy\"]) # using sparse_categorical\n",
        "\n",
        "# Set a learning rate\n",
        "callbacks = [\n",
        "    tf.keras.callbacks.EarlyStopping(monitor='val_accuracy', patience=10, mode='max', verbose=1),\n",
        "    tf.keras.callbacks.ModelCheckpoint(model_path, monitor='val_accuracy', save_best_only=True, mode='max', verbose=1),\n",
        "    tf.keras.callbacks.ReduceLROnPlateau(factor=0.1, patience=5, min_lr=0.0001, verbose=1)\n",
        "]\n",
        "\n",
        "# history2 = model2.fit(images_train, fingers_train, batch_size=batch_size, epochs=epochs, \n",
        "#                     validation_data = (images_validation, fingers_validation), verbose=1, callbacks=callbacks)\n",
        "start = time.time()\n",
        "history_conv_pool_cnn_model = conv_pool_cnn_model.fit(images_train, gender_train, batch_size=batch_size, epochs=epochs,\n",
        "                      validation_data = (images_validation, gender_validation), verbose=1, callbacks=callbacks)\n",
        "end = time.time()\n",
        "print(f'conv_pool_time: {end - start}')"
      ],
      "execution_count": null,
      "outputs": [
        {
          "output_type": "stream",
          "text": [
            "Epoch 1/6\n",
            "1160/1160 [==============================] - ETA: 0s - loss: 0.4784 - accuracy: 0.8013\n",
            "Epoch 00001: val_accuracy improved from -inf to 0.79643, saving model to /content/drive/My Drive/CIS-700/Final/conv_pool_cnn_model.h5\n",
            "1160/1160 [==============================] - 69s 60ms/step - loss: 0.4784 - accuracy: 0.8013 - val_loss: 0.4874 - val_accuracy: 0.7964 - lr: 0.0010\n",
            "Epoch 2/6\n",
            "1159/1160 [============================>.] - ETA: 0s - loss: 0.4585 - accuracy: 0.8030\n",
            "Epoch 00002: val_accuracy improved from 0.79643 to 0.80698, saving model to /content/drive/My Drive/CIS-700/Final/conv_pool_cnn_model.h5\n",
            "1160/1160 [==============================] - 68s 59ms/step - loss: 0.4585 - accuracy: 0.8030 - val_loss: 0.4613 - val_accuracy: 0.8070 - lr: 0.0010\n",
            "Epoch 3/6\n",
            "1159/1160 [============================>.] - ETA: 0s - loss: 0.4413 - accuracy: 0.8105\n",
            "Epoch 00003: val_accuracy improved from 0.80698 to 0.81256, saving model to /content/drive/My Drive/CIS-700/Final/conv_pool_cnn_model.h5\n",
            "1160/1160 [==============================] - 69s 59ms/step - loss: 0.4412 - accuracy: 0.8106 - val_loss: 0.4302 - val_accuracy: 0.8126 - lr: 0.0010\n",
            "Epoch 4/6\n",
            "1159/1160 [============================>.] - ETA: 0s - loss: 0.4212 - accuracy: 0.8197\n",
            "Epoch 00004: val_accuracy did not improve from 0.81256\n",
            "1160/1160 [==============================] - 68s 59ms/step - loss: 0.4212 - accuracy: 0.8197 - val_loss: 0.4277 - val_accuracy: 0.8117 - lr: 0.0010\n",
            "Epoch 5/6\n",
            "1159/1160 [============================>.] - ETA: 0s - loss: 0.4024 - accuracy: 0.8290\n",
            "Epoch 00005: val_accuracy improved from 0.81256 to 0.81500, saving model to /content/drive/My Drive/CIS-700/Final/conv_pool_cnn_model.h5\n",
            "1160/1160 [==============================] - 69s 59ms/step - loss: 0.4024 - accuracy: 0.8290 - val_loss: 0.4053 - val_accuracy: 0.8150 - lr: 0.0010\n",
            "Epoch 6/6\n",
            "1159/1160 [============================>.] - ETA: 0s - loss: 0.3680 - accuracy: 0.8477\n",
            "Epoch 00006: val_accuracy improved from 0.81500 to 0.86229, saving model to /content/drive/My Drive/CIS-700/Final/conv_pool_cnn_model.h5\n",
            "1160/1160 [==============================] - 69s 60ms/step - loss: 0.3680 - accuracy: 0.8477 - val_loss: 0.3328 - val_accuracy: 0.8623 - lr: 0.0010\n",
            "conv_pool_time: 415.1153230667114\n"
          ],
          "name": "stdout"
        }
      ]
    },
    {
      "cell_type": "code",
      "metadata": {
        "id": "d8_YYHcPqp2O",
        "colab_type": "code",
        "colab": {}
      },
      "source": [
        "def all_conv_cnn(model_input: Tensor):\n",
        "    \n",
        "  x = tf.keras.layers.Conv2D(96, kernel_size=(3, 3), activation='relu', padding = 'same')(model_input)\n",
        "  x = tf.keras.layers.Conv2D(96, (3, 3), activation='relu', padding = 'same')(x)\n",
        "  x = tf.keras.layers.Conv2D(96, (3, 3), activation='relu', padding = 'same', strides = 2)(x)\n",
        "  x = tf.keras.layers.Conv2D(192, (3, 3), activation='relu', padding = 'same')(x)\n",
        "  x = tf.keras.layers.Conv2D(192, (3, 3), activation='relu', padding = 'same')(x)\n",
        "  x = tf.keras.layers.Conv2D(192, (1, 1), activation='relu')(x)\n",
        "  # x = tf.keras.layers.Conv2D(2, (1, 1))(x)\n",
        "  x = tf.keras.layers.GlobalAveragePooling2D()(x)\n",
        "  # x = tf.keras.layers.Activation(activation='softmax')(x)\n",
        "\n",
        "      # Layer 3 - Output Layer\n",
        "  x = tf.keras.layers.Flatten()(x)\n",
        "  x = tf.keras.layers.Dense(50, activation=\"relu\")(x)\n",
        "  x = tf.keras.layers.Dropout(0.20)(x)\n",
        "  x = tf.keras.layers.Dense(2, activation=\"sigmoid\")(x)\n",
        "        \n",
        "  model = tf.keras.Model(model_input, x, name='all_conv_cnn')\n",
        "  print(model.summary())\n",
        "\n",
        "    \n",
        "  return model"
      ],
      "execution_count": null,
      "outputs": []
    },
    {
      "cell_type": "code",
      "metadata": {
        "id": "w7NkpSnotBoe",
        "colab_type": "code",
        "colab": {
          "base_uri": "https://localhost:8080/",
          "height": 578
        },
        "outputId": "50ec6a44-1cc6-469a-b7bf-3c6bad97f7de"
      },
      "source": [
        "all_conv_cnn_model = all_conv_cnn(model_input)"
      ],
      "execution_count": null,
      "outputs": [
        {
          "output_type": "stream",
          "text": [
            "Model: \"all_conv_cnn\"\n",
            "_________________________________________________________________\n",
            "Layer (type)                 Output Shape              Param #   \n",
            "=================================================================\n",
            "input_1 (InputLayer)         [(None, 96, 96, 1)]       0         \n",
            "_________________________________________________________________\n",
            "conv2d_5 (Conv2D)            (None, 96, 96, 96)        960       \n",
            "_________________________________________________________________\n",
            "conv2d_6 (Conv2D)            (None, 96, 96, 96)        83040     \n",
            "_________________________________________________________________\n",
            "conv2d_7 (Conv2D)            (None, 48, 48, 96)        83040     \n",
            "_________________________________________________________________\n",
            "conv2d_8 (Conv2D)            (None, 48, 48, 192)       166080    \n",
            "_________________________________________________________________\n",
            "conv2d_9 (Conv2D)            (None, 48, 48, 192)       331968    \n",
            "_________________________________________________________________\n",
            "conv2d_10 (Conv2D)           (None, 48, 48, 192)       37056     \n",
            "_________________________________________________________________\n",
            "global_average_pooling2d_1 ( (None, 192)               0         \n",
            "_________________________________________________________________\n",
            "flatten_1 (Flatten)          (None, 192)               0         \n",
            "_________________________________________________________________\n",
            "dense_2 (Dense)              (None, 50)                9650      \n",
            "_________________________________________________________________\n",
            "dropout_1 (Dropout)          (None, 50)                0         \n",
            "_________________________________________________________________\n",
            "dense_3 (Dense)              (None, 2)                 102       \n",
            "=================================================================\n",
            "Total params: 711,896\n",
            "Trainable params: 711,896\n",
            "Non-trainable params: 0\n",
            "_________________________________________________________________\n",
            "None\n"
          ],
          "name": "stdout"
        }
      ]
    },
    {
      "cell_type": "code",
      "metadata": {
        "id": "vTndxuxVepbb",
        "colab_type": "code",
        "colab": {}
      },
      "source": [
        "def network_in_network_cnn(model_input: Tensor):\n",
        "    \n",
        "    #mlpconv block 1\n",
        "    x = tf.keras.layers.Conv2D(32, (5, 5), activation='relu',padding='valid')(model_input)\n",
        "    x = tf.keras.layers.Conv2D(32, (1, 1), activation='relu')(x)\n",
        "    x = tf.keras.layers.Conv2D(32, (1, 1), activation='relu')(x)\n",
        "    x = tf.keras.layers.MaxPooling2D((2,2))(x)\n",
        "    x = tf.keras.layers.Dropout(0.5)(x)\n",
        "    \n",
        "    #mlpconv block2\n",
        "    x = tf.keras.layers.Conv2D(64, (3, 3), activation='relu',padding='valid')(x)\n",
        "    x = tf.keras.layers.Conv2D(64, (1, 1), activation='relu')(x)\n",
        "    x = tf.keras.layers.Conv2D(64, (1, 1), activation='relu')(x)\n",
        "    x = tf.keras.layers.MaxPooling2D((2,2))(x)\n",
        "    x = tf.keras.layers.Dropout(0.5)(x)\n",
        "    \n",
        "    x = tf.keras.layers.GlobalAveragePooling2D()(x)\n",
        "    # x = tf.keras.layers.Activation(activation='softmax')(x)\n",
        "        # Layer 3 - Output Layer\n",
        "    x = tf.keras.layers.Flatten()(x)\n",
        "    x = tf.keras.layers.Dense(50, activation=\"relu\")(x)\n",
        "    x = tf.keras.layers.Dropout(0.20)(x)\n",
        "    x = tf.keras.layers.Dense(2, activation=\"sigmoid\")(x)\n",
        "    \n",
        "    model = tf.keras.Model(model_input, x, name='network_in_network_cnn')\n",
        "    print(model.summary())\n",
        "    \n",
        "    return model"
      ],
      "execution_count": null,
      "outputs": []
    },
    {
      "cell_type": "code",
      "metadata": {
        "id": "3n_LzTm5f7nH",
        "colab_type": "code",
        "colab": {
          "base_uri": "https://localhost:8080/",
          "height": 714
        },
        "outputId": "a0443073-c96d-4ea6-dd1b-8f37d6fa6493"
      },
      "source": [
        "network_in_network_cnn_model = network_in_network_cnn(model_input)"
      ],
      "execution_count": null,
      "outputs": [
        {
          "output_type": "stream",
          "text": [
            "Model: \"network_in_network_cnn\"\n",
            "_________________________________________________________________\n",
            "Layer (type)                 Output Shape              Param #   \n",
            "=================================================================\n",
            "input_1 (InputLayer)         [(None, 96, 96, 1)]       0         \n",
            "_________________________________________________________________\n",
            "conv2d_11 (Conv2D)           (None, 92, 92, 32)        832       \n",
            "_________________________________________________________________\n",
            "conv2d_12 (Conv2D)           (None, 92, 92, 32)        1056      \n",
            "_________________________________________________________________\n",
            "conv2d_13 (Conv2D)           (None, 92, 92, 32)        1056      \n",
            "_________________________________________________________________\n",
            "max_pooling2d_1 (MaxPooling2 (None, 46, 46, 32)        0         \n",
            "_________________________________________________________________\n",
            "dropout_2 (Dropout)          (None, 46, 46, 32)        0         \n",
            "_________________________________________________________________\n",
            "conv2d_14 (Conv2D)           (None, 44, 44, 64)        18496     \n",
            "_________________________________________________________________\n",
            "conv2d_15 (Conv2D)           (None, 44, 44, 64)        4160      \n",
            "_________________________________________________________________\n",
            "conv2d_16 (Conv2D)           (None, 44, 44, 64)        4160      \n",
            "_________________________________________________________________\n",
            "max_pooling2d_2 (MaxPooling2 (None, 22, 22, 64)        0         \n",
            "_________________________________________________________________\n",
            "dropout_3 (Dropout)          (None, 22, 22, 64)        0         \n",
            "_________________________________________________________________\n",
            "global_average_pooling2d_2 ( (None, 64)                0         \n",
            "_________________________________________________________________\n",
            "flatten_2 (Flatten)          (None, 64)                0         \n",
            "_________________________________________________________________\n",
            "dense_4 (Dense)              (None, 50)                3250      \n",
            "_________________________________________________________________\n",
            "dropout_4 (Dropout)          (None, 50)                0         \n",
            "_________________________________________________________________\n",
            "dense_5 (Dense)              (None, 2)                 102       \n",
            "=================================================================\n",
            "Total params: 33,112\n",
            "Trainable params: 33,112\n",
            "Non-trainable params: 0\n",
            "_________________________________________________________________\n",
            "None\n"
          ],
          "name": "stdout"
        }
      ]
    },
    {
      "cell_type": "code",
      "metadata": {
        "id": "paPpGuFB2D46",
        "colab_type": "code",
        "colab": {}
      },
      "source": [
        "# def evaluate_error(model):\n",
        "#     pred = model.predict(images_validation, batch_size = 34)\n",
        "#     pred = np.argmax(pred, axis=1)\n",
        "#     pred = np.expand_dims(pred, axis=1) # make same shape as y_test\n",
        "#     error = np.sum(np.not_equal(pred, gender_validation)) / gender_validation.shape[0]    \n",
        "#     return error"
      ],
      "execution_count": null,
      "outputs": []
    },
    {
      "cell_type": "code",
      "metadata": {
        "id": "-hx5AHj_2Em9",
        "colab_type": "code",
        "colab": {
          "base_uri": "https://localhost:8080/",
          "height": 153
        },
        "outputId": "a436beca-e5df-466a-9018-202e5511a691"
      },
      "source": [
        "# evaluate_error(network_in_network_cnn_model)\n",
        "# p = network_in_network_cnn_model.predict(images_validation, batch_size=34, verbose=1)\n",
        "# p\n",
        "# images_train, images_validation, gender_train, gender_validation"
      ],
      "execution_count": null,
      "outputs": [
        {
          "output_type": "stream",
          "text": [
            "290/290 [==============================] - 4s 14ms/step\n"
          ],
          "name": "stdout"
        },
        {
          "output_type": "execute_result",
          "data": {
            "text/plain": [
              "array([[2.0472299e-23, 1.0000000e+00],\n",
              "       [2.1283759e-31, 1.0000000e+00],\n",
              "       [9.0998354e-29, 1.0000000e+00],\n",
              "       ...,\n",
              "       [1.5314016e-27, 1.0000000e+00],\n",
              "       [3.4394598e-28, 1.0000000e+00],\n",
              "       [2.0452274e-27, 1.0000000e+00]], dtype=float32)"
            ]
          },
          "metadata": {
            "tags": []
          },
          "execution_count": 90
        }
      ]
    },
    {
      "cell_type": "code",
      "metadata": {
        "id": "BK6u0k89WNod",
        "colab_type": "code",
        "colab": {}
      },
      "source": [
        "models = [conv_pool_cnn_model, all_conv_cnn_model, network_in_network_cnn_model]"
      ],
      "execution_count": null,
      "outputs": []
    },
    {
      "cell_type": "code",
      "metadata": {
        "id": "Lo61nvlyhUSi",
        "colab_type": "code",
        "colab": {
          "base_uri": "https://localhost:8080/",
          "height": 68
        },
        "outputId": "aee26701-c8d2-473c-d60d-5210a5e787ac"
      },
      "source": [
        "print(conv_pool_cnn_model.outputs)\n",
        "print(all_conv_cnn_model.outputs)\n",
        "print(network_in_network_cnn_model.outputs)"
      ],
      "execution_count": null,
      "outputs": [
        {
          "output_type": "stream",
          "text": [
            "[<tf.Tensor 'dense_1/Identity:0' shape=(None, 2) dtype=float32>]\n",
            "[<tf.Tensor 'dense_7/Identity:0' shape=(None, 2) dtype=float32>]\n",
            "[<tf.Tensor 'dense_3/Identity:0' shape=(None, 2) dtype=float32>]\n"
          ],
          "name": "stdout"
        }
      ]
    },
    {
      "cell_type": "code",
      "metadata": {
        "id": "SzBcjgfIaP-U",
        "colab_type": "code",
        "colab": {}
      },
      "source": [
        "def ensemble(models, model_input):\n",
        "    \n",
        "    outputs = [model.outputs[0] for model in models]\n",
        "    y = tf.keras.layers.Average()(outputs)\n",
        "    y = tf.keras.layers.Dropout(.25)(y)\n",
        "\n",
        "      # Layer 3 - Output Layer\n",
        "    # y = tf.keras.layers.Flatten()(y)\n",
        "    y = tf.keras.layers.GaussianNoise(.5)(y) # adds noise with a standard deviation\n",
        "    y = tf.keras.layers.Dense(50, activation=\"relu\")(y)\n",
        "    y = tf.keras.layers.Dropout(0.20)(y)\n",
        "    y = tf.keras.layers.Dense(2, activation=\"sigmoid\")(y)\n",
        "\n",
        "    model = tf.keras.Model(model_input, y, name='ensemble')\n",
        "    print(model.summary())\n",
        "    print(y)\n",
        "    \n",
        "    return model"
      ],
      "execution_count": null,
      "outputs": []
    },
    {
      "cell_type": "code",
      "metadata": {
        "id": "i8SvVgNHcE-S",
        "colab_type": "code",
        "colab": {
          "base_uri": "https://localhost:8080/",
          "height": 1000
        },
        "outputId": "cc64dc77-be57-4ca0-bf4e-3dbfa7b81681"
      },
      "source": [
        "ensemble_model = ensemble(models, model_input)\n",
        "# ensemble_model = ensemble_model.add_loss(losses=tf.abs(tf.reduce_mean(conv_pool_cnn_model)))\n",
        "# ensemble_model.add_weight()"
      ],
      "execution_count": null,
      "outputs": [
        {
          "output_type": "stream",
          "text": [
            "Model: \"ensemble\"\n",
            "__________________________________________________________________________________________________\n",
            "Layer (type)                    Output Shape         Param #     Connected to                     \n",
            "==================================================================================================\n",
            "input_1 (InputLayer)            [(None, 96, 96, 1)]  0                                            \n",
            "__________________________________________________________________________________________________\n",
            "conv2d_11 (Conv2D)              (None, 92, 92, 32)   832         input_1[0][0]                    \n",
            "__________________________________________________________________________________________________\n",
            "conv2d_12 (Conv2D)              (None, 92, 92, 32)   1056        conv2d_11[0][0]                  \n",
            "__________________________________________________________________________________________________\n",
            "conv2d_13 (Conv2D)              (None, 92, 92, 32)   1056        conv2d_12[0][0]                  \n",
            "__________________________________________________________________________________________________\n",
            "max_pooling2d_1 (MaxPooling2D)  (None, 46, 46, 32)   0           conv2d_13[0][0]                  \n",
            "__________________________________________________________________________________________________\n",
            "conv2d (Conv2D)                 (None, 96, 96, 96)   960         input_1[0][0]                    \n",
            "__________________________________________________________________________________________________\n",
            "conv2d_5 (Conv2D)               (None, 96, 96, 96)   960         input_1[0][0]                    \n",
            "__________________________________________________________________________________________________\n",
            "dropout_2 (Dropout)             (None, 46, 46, 32)   0           max_pooling2d_1[0][0]            \n",
            "__________________________________________________________________________________________________\n",
            "conv2d_1 (Conv2D)               (None, 96, 96, 96)   83040       conv2d[0][0]                     \n",
            "__________________________________________________________________________________________________\n",
            "conv2d_6 (Conv2D)               (None, 96, 96, 96)   83040       conv2d_5[0][0]                   \n",
            "__________________________________________________________________________________________________\n",
            "conv2d_14 (Conv2D)              (None, 44, 44, 64)   18496       dropout_2[0][0]                  \n",
            "__________________________________________________________________________________________________\n",
            "conv2d_2 (Conv2D)               (None, 96, 96, 96)   83040       conv2d_1[0][0]                   \n",
            "__________________________________________________________________________________________________\n",
            "conv2d_7 (Conv2D)               (None, 48, 48, 96)   83040       conv2d_6[0][0]                   \n",
            "__________________________________________________________________________________________________\n",
            "conv2d_15 (Conv2D)              (None, 44, 44, 64)   4160        conv2d_14[0][0]                  \n",
            "__________________________________________________________________________________________________\n",
            "max_pooling2d (MaxPooling2D)    (None, 47, 47, 96)   0           conv2d_2[0][0]                   \n",
            "__________________________________________________________________________________________________\n",
            "conv2d_8 (Conv2D)               (None, 48, 48, 192)  166080      conv2d_7[0][0]                   \n",
            "__________________________________________________________________________________________________\n",
            "conv2d_16 (Conv2D)              (None, 44, 44, 64)   4160        conv2d_15[0][0]                  \n",
            "__________________________________________________________________________________________________\n",
            "conv2d_3 (Conv2D)               (None, 47, 47, 192)  166080      max_pooling2d[0][0]              \n",
            "__________________________________________________________________________________________________\n",
            "conv2d_9 (Conv2D)               (None, 48, 48, 192)  331968      conv2d_8[0][0]                   \n",
            "__________________________________________________________________________________________________\n",
            "max_pooling2d_2 (MaxPooling2D)  (None, 22, 22, 64)   0           conv2d_16[0][0]                  \n",
            "__________________________________________________________________________________________________\n",
            "conv2d_4 (Conv2D)               (None, 47, 47, 192)  37056       conv2d_3[0][0]                   \n",
            "__________________________________________________________________________________________________\n",
            "conv2d_10 (Conv2D)              (None, 48, 48, 192)  37056       conv2d_9[0][0]                   \n",
            "__________________________________________________________________________________________________\n",
            "dropout_3 (Dropout)             (None, 22, 22, 64)   0           max_pooling2d_2[0][0]            \n",
            "__________________________________________________________________________________________________\n",
            "global_average_pooling2d (Globa (None, 192)          0           conv2d_4[0][0]                   \n",
            "__________________________________________________________________________________________________\n",
            "global_average_pooling2d_1 (Glo (None, 192)          0           conv2d_10[0][0]                  \n",
            "__________________________________________________________________________________________________\n",
            "global_average_pooling2d_2 (Glo (None, 64)           0           dropout_3[0][0]                  \n",
            "__________________________________________________________________________________________________\n",
            "flatten (Flatten)               (None, 192)          0           global_average_pooling2d[0][0]   \n",
            "__________________________________________________________________________________________________\n",
            "flatten_1 (Flatten)             (None, 192)          0           global_average_pooling2d_1[0][0] \n",
            "__________________________________________________________________________________________________\n",
            "flatten_2 (Flatten)             (None, 64)           0           global_average_pooling2d_2[0][0] \n",
            "__________________________________________________________________________________________________\n",
            "dense (Dense)                   (None, 50)           9650        flatten[0][0]                    \n",
            "__________________________________________________________________________________________________\n",
            "dense_2 (Dense)                 (None, 50)           9650        flatten_1[0][0]                  \n",
            "__________________________________________________________________________________________________\n",
            "dense_4 (Dense)                 (None, 50)           3250        flatten_2[0][0]                  \n",
            "__________________________________________________________________________________________________\n",
            "dropout (Dropout)               (None, 50)           0           dense[0][0]                      \n",
            "__________________________________________________________________________________________________\n",
            "dropout_1 (Dropout)             (None, 50)           0           dense_2[0][0]                    \n",
            "__________________________________________________________________________________________________\n",
            "dropout_4 (Dropout)             (None, 50)           0           dense_4[0][0]                    \n",
            "__________________________________________________________________________________________________\n",
            "dense_1 (Dense)                 (None, 2)            102         dropout[0][0]                    \n",
            "__________________________________________________________________________________________________\n",
            "dense_3 (Dense)                 (None, 2)            102         dropout_1[0][0]                  \n",
            "__________________________________________________________________________________________________\n",
            "dense_5 (Dense)                 (None, 2)            102         dropout_4[0][0]                  \n",
            "__________________________________________________________________________________________________\n",
            "average_3 (Average)             (None, 2)            0           dense_1[0][0]                    \n",
            "                                                                 dense_3[0][0]                    \n",
            "                                                                 dense_5[0][0]                    \n",
            "__________________________________________________________________________________________________\n",
            "dropout_11 (Dropout)            (None, 2)            0           average_3[0][0]                  \n",
            "__________________________________________________________________________________________________\n",
            "gaussian_noise_1 (GaussianNoise (None, 2)            0           dropout_11[0][0]                 \n",
            "__________________________________________________________________________________________________\n",
            "dense_12 (Dense)                (None, 50)           150         gaussian_noise_1[0][0]           \n",
            "__________________________________________________________________________________________________\n",
            "dropout_12 (Dropout)            (None, 50)           0           dense_12[0][0]                   \n",
            "__________________________________________________________________________________________________\n",
            "dense_13 (Dense)                (None, 2)            102         dropout_12[0][0]                 \n",
            "==================================================================================================\n",
            "Total params: 1,125,188\n",
            "Trainable params: 1,125,188\n",
            "Non-trainable params: 0\n",
            "__________________________________________________________________________________________________\n",
            "None\n",
            "Tensor(\"dense_13/Identity:0\", shape=(None, 2), dtype=float32)\n"
          ],
          "name": "stdout"
        }
      ]
    },
    {
      "cell_type": "code",
      "metadata": {
        "id": "Pb_B5yegeqqM",
        "colab_type": "code",
        "colab": {}
      },
      "source": [
        "# model_1_weights = tf.keras.Model(model_input, model, name='model_1_weights')"
      ],
      "execution_count": null,
      "outputs": []
    },
    {
      "cell_type": "code",
      "metadata": {
        "id": "HhgVjv3F9CeZ",
        "colab_type": "code",
        "colab": {
          "base_uri": "https://localhost:8080/",
          "height": 374
        },
        "outputId": "6018ba0b-bb47-453a-f60a-ec2319c8c2c8"
      },
      "source": [
        "import time\n",
        "\n",
        "model_path = '/content/drive/My Drive/CIS-700/Final/Ensemble_Model.h5' #.Model_3.h7\n",
        "\n",
        "ensemble_model.compile(loss=tf.keras.losses.CategoricalCrossentropy(),\n",
        "              optimizer=tf.keras.optimizers.RMSprop(),\n",
        "              metrics=['accuracy'],\n",
        "              loss_weights=[1., 0.2, 0.5])\n",
        "\n",
        "# Set a learning rate\n",
        "callbacks = [\n",
        "    tf.keras.callbacks.EarlyStopping(monitor='val_accuracy', patience=3, mode='max', verbose=1),\n",
        "    tf.keras.callbacks.ModelCheckpoint(model_path, monitor='val_accuracy', save_best_only=True, mode='max', verbose=1),\n",
        "    tf.keras.callbacks.ReduceLROnPlateau(factor=0.1, patience=2, min_lr=0.0001, verbose=1)\n",
        "]\n",
        "start = time.time()\n",
        "history = ensemble_model.fit(images_train, gender_train,\n",
        "                             steps_per_epoch=40,\n",
        "                             batch_size=34,\n",
        "                             epochs=8, \n",
        "                             validation_data = (images_validation, gender_validation), verbose=1, \n",
        "                             callbacks=callbacks)\n",
        "end = time.time()\n",
        "print(f'ensemble time: {end - start}')\n",
        "test_scores = ensemble_model.evaluate(images_validation, gender_validation, verbose=1)\n",
        "print('Test loss:', test_scores[0])\n",
        "print('Test accuracy:', test_scores[1])"
      ],
      "execution_count": null,
      "outputs": [
        {
          "output_type": "stream",
          "text": [
            "Epoch 1/8\n",
            "40/40 [==============================] - ETA: 0s - loss: 0.6256 - accuracy: 0.7037\n",
            "Epoch 00001: val_accuracy improved from -inf to 0.79643, saving model to /content/drive/My Drive/CIS-700/Final/Ensemble_Model.h5\n",
            "40/40 [==============================] - 18s 438ms/step - loss: 0.6256 - accuracy: 0.7037 - val_loss: 0.5648 - val_accuracy: 0.7964 - lr: 0.0010\n",
            "Epoch 2/8\n",
            "40/40 [==============================] - ETA: 0s - loss: 0.5237 - accuracy: 0.8118\n",
            "Epoch 00002: val_accuracy did not improve from 0.79643\n",
            "40/40 [==============================] - 17s 418ms/step - loss: 0.5237 - accuracy: 0.8118 - val_loss: 0.5176 - val_accuracy: 0.7964 - lr: 0.0010\n",
            "Epoch 3/8\n",
            "40/40 [==============================] - ETA: 0s - loss: 0.5530 - accuracy: 0.7794\n",
            "Epoch 00003: val_accuracy did not improve from 0.79643\n",
            "40/40 [==============================] - 17s 418ms/step - loss: 0.5530 - accuracy: 0.7794 - val_loss: 0.5171 - val_accuracy: 0.7964 - lr: 0.0010\n",
            "Epoch 4/8\n",
            "40/40 [==============================] - ETA: 0s - loss: 0.4992 - accuracy: 0.8125\n",
            "Epoch 00004: val_accuracy did not improve from 0.79643\n",
            "40/40 [==============================] - 17s 418ms/step - loss: 0.4992 - accuracy: 0.8125 - val_loss: 0.5077 - val_accuracy: 0.7964 - lr: 0.0010\n",
            "Epoch 00004: early stopping\n",
            "ensemble time: 71.70962738990784\n",
            "308/308 [==============================] - 11s 36ms/step - loss: 0.5077 - accuracy: 0.7964\n",
            "Test loss: 0.5076642632484436\n",
            "Test accuracy: 0.796427845954895\n"
          ],
          "name": "stdout"
        }
      ]
    },
    {
      "cell_type": "code",
      "metadata": {
        "id": "NOlugj383q4U",
        "colab_type": "code",
        "colab": {}
      },
      "source": [
        "# For Ensemble Model\n",
        "epochs = 2 # 20+ gets me an accuracy in the 99.8% range but it takes much longer to train even with a GPU.\n",
        "batch_size = 34\n",
        "model_path = '/content/drive/My Drive/CIS-700/Final/Ensemble_Model.h5' #.Model_3.h7\n",
        "\n",
        "ensemble_model.compile(optimizer='RMSprop', loss=\"categorical_crossentropy\", metrics=[\"accuracy\"]) # using sparse_categorical\n",
        "\n",
        "# Set a learning rate\n",
        "callbacks = [\n",
        "    tf.keras.callbacks.EarlyStopping(monitor='val_accuracy', patience=3, mode='max', verbose=1),\n",
        "    tf.keras.callbacks.ModelCheckpoint(model_path, monitor='val_accuracy', save_best_only=True, mode='max', verbose=1),\n",
        "    tf.keras.callbacks.ReduceLROnPlateau(factor=0.1, patience=2, min_lr=0.0001, verbose=1)\n",
        "]\n",
        "\n",
        "history_ensemble = ensemble_model.fit(images_train, gender_train, batch_size=batch_size, epochs=epochs,\n",
        "                      validation_data = (images_validation, gender_validation), verbose=1, callbacks=callbacks)"
      ],
      "execution_count": null,
      "outputs": []
    },
    {
      "cell_type": "code",
      "metadata": {
        "id": "B8ibw9OPA0Lc",
        "colab_type": "code",
        "colab": {
          "base_uri": "https://localhost:8080/",
          "height": 922
        },
        "outputId": "425fbfec-9f11-4d75-b7af-c1072450d43b"
      },
      "source": [
        "#Model 1\n",
        "accuracy_1 = history_ensemble.history['accuracy']\n",
        "validation_acc_1 = history_ensemble.history['val_accuracy']\n",
        "loss_1 = history_ensemble.history['loss']\n",
        "validation_loss_1 = history_ensemble.history['val_loss']\n",
        "\n",
        "# #Model 2\n",
        "# accuracy_2 = history2.history['accuracy']\n",
        "# validation_acc_2 = history2.history['val_accuracy']\n",
        "# loss_2 = history2.history['loss']\n",
        "# validation_loss_2 = history2.history['val_loss']\n",
        "\n",
        "# #Model 3\n",
        "# accuracy_3 = history3.history['accuracy']\n",
        "# validation_acc_3 = history3.history['val_accuracy']\n",
        "# loss_3 = history3.history['loss']\n",
        "# validation_loss_3 = history3.history['val_loss']\n",
        "\n",
        "epochs = range(1, len(accuracy_1) + 1)\n",
        "\n",
        "fig = plt.figure(figsize=(14, 7))\n",
        "ax = fig.add_subplot(111)\n",
        "ax.tick_params(axis='both', labelsize=12, colors='white')\n",
        "\n",
        "# Model 1\n",
        "plt.plot(epochs, accuracy_1, label='Training accuracy Model 1')\n",
        "plt.plot(epochs, validation_acc_1, label='Validation accuracy Model 1')\n",
        "\n",
        "# # Model 2\n",
        "# plt.plot(epochs, accuracy_2, label='Training accuracy Model 2')\n",
        "# plt.plot(epochs, validation_acc_2, label='Validation accuracy Model 2')\n",
        "\n",
        "# # Model 3\n",
        "# plt.plot(epochs, accuracy_3, label=\"Training accuracy Model 3\")\n",
        "# plt.plot(epochs, validation_acc_3, label='Validation accuracy Model 3')\n",
        "\n",
        "plt.title('Training and Validation Accuracy', fontdict={'fontsize': 16, 'color': 'white'})\n",
        "plt.legend()\n",
        "\n",
        "plt.xlabel('Epochs', fontsize=12, weight='bold', color='white')\n",
        "plt.ylabel('Accuracy', fontsize=12, weight='bold', color='white')\n",
        "\n",
        "fig = plt.figure(figsize=(14, 7))\n",
        "ax = fig.add_subplot(111)\n",
        "ax.tick_params(axis='both', labelsize=12, colors='white')\n",
        "\n",
        "plt.axis(color='white') # SHOW AXIS OF EPOCH AND ACCURACY\n",
        "\n",
        "# #Model 1\n",
        "# plt.plot(epochs, loss_1, label='Training loss Model 1')\n",
        "# plt.plot(epochs, validation_loss_1, label='Validation loss Model 1')\n",
        "\n",
        "# #Model 2\n",
        "# plt.plot(epochs, loss_2, label='Training loss Model 2')\n",
        "# plt.plot(epochs, validation_loss_2, label='Validation loss Model 2')\n",
        "\n",
        "# #Model 3\n",
        "# plt.plot(epochs, loss_3, label='Training loss Model 3')\n",
        "# plt.plot(epochs, validation_loss_3, label='Validation loss Model 3')\n",
        "\n",
        "# plt.title('Training and Validation Loss', fontdict={'fontsize': 16, 'color': 'white'})\n",
        "# plt.legend()\n",
        "\n",
        "# plt.xlabel('Epochs', fontsize=12, weight='bold', color='white')\n",
        "# plt.ylabel('Accuracy', fontsize=12, weight='bold', color='white')\n",
        "\n",
        "# # score = model.evaluate([images_norm_test], [finger_category_test], verbose=1)\n",
        "# score = ensemble_model.evaluate([images_norm_test], [gender_category_test], verbose=1)\n",
        "# print(\"Accuracy Score: \",score[1]*100)\n",
        "\n",
        "plt.show()"
      ],
      "execution_count": null,
      "outputs": [
        {
          "output_type": "stream",
          "text": [
            "/usr/local/lib/python3.6/dist-packages/ipykernel_launcher.py:47: MatplotlibDeprecationWarning: Passing unsupported keyword arguments to axis() will raise a TypeError in 3.3.\n"
          ],
          "name": "stderr"
        },
        {
          "output_type": "display_data",
          "data": {
            "image/png": "[encoded data removed]",
            "text/plain": [
              "<Figure size 1008x504 with 1 Axes>"
            ]
          },
          "metadata": {
            "tags": [],
            "needs_background": "dark"
          }
        },
        {
          "output_type": "display_data",
          "data": {
            "image/png": "[encoded data removed]",
            "text/plain": [
              "<Figure size 1008x504 with 1 Axes>"
            ]
          },
          "metadata": {
            "tags": [],
            "needs_background": "dark"
          }
        }
      ]
    },
    {
      "cell_type": "code",
      "metadata": {
        "id": "eZnbP-oDbhaS",
        "colab_type": "code",
        "colab": {}
      },
      "source": [
        "# pickle write history_ensemble\n",
        "\n",
        "# date_of_launch = str(datetime.date.today())\n",
        "# fileObject = open('/content/drive/My Drive/CIS-700/Final/pickled_history_ensemble' + date_of_launch + '.pickle', 'wb')\n",
        "# pickle.dump(history_ensemble, fileObject)\n",
        "# fileObject.close()\n"
      ],
      "execution_count": null,
      "outputs": []
    },
    {
      "cell_type": "code",
      "metadata": {
        "id": "VIq7pTNm4VbE",
        "colab_type": "code",
        "colab": {}
      },
      "source": [
        "# pickle read history_ensemble\n",
        "# fileObject = open('/content/drive/My Drive/CIS-700/Final/pickled_history_ensemble2020-06-06.pickle', 'rb')\n",
        "# history_ensemble = pickle.load(fileObject)\n",
        "# fileObject.close()\n",
        "# history_ensemble"
      ],
      "execution_count": null,
      "outputs": []
    },
    {
      "cell_type": "code",
      "metadata": {
        "id": "X8rlGyYHBJAb",
        "colab_type": "code",
        "colab": {
          "base_uri": "https://localhost:8080/",
          "height": 68
        },
        "outputId": "36a3174e-f108-46e5-d180-490b9fb7d6e5"
      },
      "source": [
        "# print(fingers.shape)\n",
        "# print(fingers_test.shape)\n",
        "print(images_norm.shape)\n",
        "print(images_norm_test.shape)\n",
        "print(images_validation.shape)\n",
        "# print(fingers_validation.shape)"
      ],
      "execution_count": null,
      "outputs": [
        {
          "output_type": "stream",
          "text": [
            "(49270, 96, 96, 1)\n",
            "(6000, 96, 96, 1)\n",
            "(9854, 96, 96, 1)\n"
          ],
          "name": "stdout"
        }
      ]
    },
    {
      "cell_type": "code",
      "metadata": {
        "id": "6EQ-m1JzhoJq",
        "colab_type": "code",
        "colab": {
          "base_uri": "https://localhost:8080/",
          "height": 34
        },
        "outputId": "fadc780d-d04d-4182-d667-42f1841059fc"
      },
      "source": [
        "predictions = model.predict(images_norm_test, batch_size=35)\n",
        "predictions.shape"
      ],
      "execution_count": null,
      "outputs": [
        {
          "output_type": "execute_result",
          "data": {
            "text/plain": [
              "(6000, 2)"
            ]
          },
          "metadata": {
            "tags": []
          },
          "execution_count": 37
        }
      ]
    },
    {
      "cell_type": "code",
      "metadata": {
        "id": "zVxWLmeki_R-",
        "colab_type": "code",
        "colab": {
          "base_uri": "https://localhost:8080/",
          "height": 51
        },
        "outputId": "d67437db-aec4-4b09-ce51-6d3e7d5949a4"
      },
      "source": [
        "print(predictions[3])\n",
        "print(gender_labels[3])"
      ],
      "execution_count": null,
      "outputs": [
        {
          "output_type": "stream",
          "text": [
            "[9.9996066e-01 3.9337483e-05]\n",
            "0\n"
          ],
          "name": "stdout"
        }
      ]
    },
    {
      "cell_type": "code",
      "metadata": {
        "id": "UUcoe41KhwVf",
        "colab_type": "code",
        "colab": {}
      },
      "source": [
        "# # confusion_matrix = tfa.metrics.MultiLabelConfusionMatrix(num_classes=5)\n",
        "# # confusion_matrix.update_state(finger_labels_test, predictions)\n",
        "# confusion_matrix = tf.math.confusion_matrix(gender_labels, predictions)\n",
        "# # confusion_matrix.update_state(gender_labels_test, predictions)\n",
        "# confusion_matrix"
      ],
      "execution_count": null,
      "outputs": []
    },
    {
      "cell_type": "code",
      "metadata": {
        "id": "BkWaR6uO4tHJ",
        "colab_type": "code",
        "colab": {}
      },
      "source": [
        "confusion_matrix.result()[0]"
      ],
      "execution_count": null,
      "outputs": []
    },
    {
      "cell_type": "code",
      "metadata": {
        "id": "96UNZtX_Cl-A",
        "colab_type": "code",
        "colab": {}
      },
      "source": [
        "#Confusion Matrix HeatMap of all five labels.\n",
        "figure = plt.figure(figsize=(6, 6))\n",
        "for i in range(5):\n",
        "  sn.heatmap(confusion_matrix.result()[i], annot=True, cmap=plt.cm.Blues)\n",
        "  plt.tight_layout()\n",
        "  plt.ylabel('True label', color='white')\n",
        "  plt.xlabel('Predicted label', color='white')\n",
        "  plt.show()"
      ],
      "execution_count": null,
      "outputs": []
    },
    {
      "cell_type": "code",
      "metadata": {
        "id": "M19g5DfEC6l4",
        "colab_type": "code",
        "colab": {}
      },
      "source": [
        "predictions[0]"
      ],
      "execution_count": null,
      "outputs": []
    },
    {
      "cell_type": "markdown",
      "metadata": {
        "id": "l8XpzahaN7Oj",
        "colab_type": "text"
      },
      "source": [
        "Assignment 2 Question 1 - Scatterplot"
      ]
    },
    {
      "cell_type": "code",
      "metadata": {
        "id": "7ecWeC7NFf7_",
        "colab_type": "code",
        "colab": {}
      },
      "source": [
        "finger_label_list = ['thumb', 'index', 'middle', 'ring', 'pinky']"
      ],
      "execution_count": null,
      "outputs": []
    },
    {
      "cell_type": "code",
      "metadata": {
        "id": "UOyoreSXSiKN",
        "colab_type": "code",
        "colab": {}
      },
      "source": [
        "# # Draw a scatter plot\n",
        "# plt.subplots(figsize=(7, 7))\n",
        "# plt.xlabel('Finger Label', c='white')\n",
        "# plt.scatter(finger_label_list, predictions[0] )\n",
        "# plt.scatter(finger_label_list, predictions[1] )\n",
        "# plt.scatter(finger_label_list, predictions[2] )\n",
        "# # sn.scatterplot(data=predictions[0])\n",
        "# # sn.stripplot(data=predictions)\n",
        "# # plt.figure(figsize=(15,7))\n",
        "# plt.title(\"Predicted Digits\", c='white')\n",
        "# plt.show()"
      ],
      "execution_count": null,
      "outputs": []
    },
    {
      "cell_type": "code",
      "metadata": {
        "id": "-KiZ4Soh1Vlg",
        "colab_type": "code",
        "colab": {
          "base_uri": "https://localhost:8080/",
          "height": 458
        },
        "outputId": "6ed754d9-8b3c-49b5-9568-76e65049515f"
      },
      "source": [
        "gender_label_list = ['male', 'female']\n",
        "plt.subplots(figsize=(7, 7))\n",
        "plt.xlabel('Gender Label', c='white')\n",
        "plt.scatter(gender_label_list, predictions[0] )\n",
        "plt.scatter(gender_label_list, predictions[1] )\n",
        "plt.title(\"Predicted Gender\", c='white')\n",
        "plt.show()\n"
      ],
      "execution_count": null,
      "outputs": [
        {
          "output_type": "display_data",
          "data": {
            "image/png": "[encoded data removed]",
            "text/plain": [
              "<Figure size 504x504 with 1 Axes>"
            ]
          },
          "metadata": {
            "tags": [],
            "needs_background": "light"
          }
        }
      ]
    },
    {
      "cell_type": "code",
      "metadata": {
        "id": "EZgmAZMlMSkd",
        "colab_type": "code",
        "colab": {
          "base_uri": "https://localhost:8080/",
          "height": 34
        },
        "outputId": "f43426f0-2366-433c-ccdd-f38e42ae8822"
      },
      "source": [
        "images_2_norm.shape"
      ],
      "execution_count": null,
      "outputs": [
        {
          "output_type": "execute_result",
          "data": {
            "text/plain": [
              "(49270, 96, 96)"
            ]
          },
          "metadata": {
            "tags": []
          },
          "execution_count": 39
        }
      ]
    },
    {
      "cell_type": "code",
      "metadata": {
        "id": "tuBE_nDYMitd",
        "colab_type": "code",
        "colab": {
          "base_uri": "https://localhost:8080/",
          "height": 238
        },
        "outputId": "b9c36b61-e212-4933-bb51-6e6889419067"
      },
      "source": [
        "images_2_norm[0]"
      ],
      "execution_count": null,
      "outputs": [
        {
          "output_type": "execute_result",
          "data": {
            "text/plain": [
              "array([[0.62745098, 0.61960784, 0.61960784, ..., 0.        , 0.        ,\n",
              "        0.        ],\n",
              "       [0.62745098, 0.41176471, 0.4745098 , ..., 0.        , 0.        ,\n",
              "        0.        ],\n",
              "       [0.62745098, 0.41176471, 1.        , ..., 0.        , 0.        ,\n",
              "        0.        ],\n",
              "       ...,\n",
              "       [0.        , 0.        , 0.        , ..., 0.        , 0.        ,\n",
              "        0.        ],\n",
              "       [0.        , 0.        , 0.        , ..., 0.        , 0.        ,\n",
              "        0.        ],\n",
              "       [0.        , 0.        , 0.        , ..., 0.        , 0.        ,\n",
              "        0.        ]])"
            ]
          },
          "metadata": {
            "tags": []
          },
          "execution_count": 40
        }
      ]
    },
    {
      "cell_type": "code",
      "metadata": {
        "id": "CQwehmG-OeNd",
        "colab_type": "code",
        "colab": {
          "base_uri": "https://localhost:8080/",
          "height": 51
        },
        "outputId": "656cb658-43e1-4c3f-dc1b-d6c634d186ff"
      },
      "source": [
        "# future pca work\n",
        "train_img = pca.transform(images_2_norm[0])\n",
        "train_lbl = pca.transform(images_2_test_norm[0])\n",
        "print(train_img.shape)\n",
        "print(train_lbl.shape)"
      ],
      "execution_count": null,
      "outputs": [
        {
          "output_type": "stream",
          "text": [
            "(96, 23)\n",
            "(96, 23)\n"
          ],
          "name": "stdout"
        }
      ]
    },
    {
      "cell_type": "code",
      "metadata": {
        "id": "pWlX0NHmQPme",
        "colab_type": "code",
        "colab": {}
      },
      "source": [
        "# from sklearn.linear_model import LogisticRegression\n",
        "# # all parameters not specified are set to their defaults\n",
        "# # default solver is incredibly slow which is why it was changed to 'lbfgs'\n",
        "# logisticRegr = LogisticRegression(solver = 'lbfgs')\n",
        "# logisticRegr.fit(train_img, train_lbl)"
      ],
      "execution_count": null,
      "outputs": []
    },
    {
      "cell_type": "code",
      "metadata": {
        "id": "fGawo2GIQvzt",
        "colab_type": "code",
        "colab": {}
      },
      "source": [
        "# Predict for One Observation (image)\n",
        "# logisticRegr.predict(test_img[0].reshape(1,-1))"
      ],
      "execution_count": null,
      "outputs": []
    },
    {
      "cell_type": "code",
      "metadata": {
        "id": "BJcTijebQdnN",
        "colab_type": "code",
        "colab": {
          "base_uri": "https://localhost:8080/",
          "height": 34
        },
        "outputId": "a0f07051-d60b-4449-f1c8-29653e806560"
      },
      "source": [
        "images_train[0].shape"
      ],
      "execution_count": null,
      "outputs": [
        {
          "output_type": "execute_result",
          "data": {
            "text/plain": [
              "(96, 96, 1)"
            ]
          },
          "metadata": {
            "tags": []
          },
          "execution_count": 44
        }
      ]
    },
    {
      "cell_type": "code",
      "metadata": {
        "id": "GVpWaD9Hg05C",
        "colab_type": "code",
        "colab": {}
      },
      "source": [
        ""
      ],
      "execution_count": null,
      "outputs": []
    }
  ]
}